{
 "cells": [
  {
   "cell_type": "markdown",
   "id": "2144b35a",
   "metadata": {},
   "source": [
    "# Big Mart Sales Prediction"
   ]
  },
  {
   "cell_type": "markdown",
   "id": "0133381f",
   "metadata": {},
   "source": [
    "## Abstract :\n",
    "Any insight into the future puts your organization at an advantage. Forecasting helps you predict potential issues, make better decisions, and measure the impact of those decisions.\n",
    "Forecasting of sales is a very important aspect for every distribution,manufacturing,marketing and wholesaling compamies. Forecasting gives them a way by which they can take better decision\n",
    "\n",
    "- Sales Forecasting helps their business to utilize resources efficiently \n",
    "- Sales forecasting also helps businesses to estimate their costs and revenue accurately based on which they are able to predict their short-term and long-term performance\n",
    "- Sales Forecasting help to identify early warning so that corrective measure can be taken \n",
    "\n",
    "IN this project we will try to predict sales of a product based on different feature like location,type of super-store by using Regression technique."
   ]
  },
  {
   "cell_type": "markdown",
   "id": "6a454a6a",
   "metadata": {},
   "source": [
    "## Problem Defination :\n",
    "The data scientists at BigMart have collected 2013 sales data for 1559 products across 10 stores in different cities. Also, certain attributes of each product and store have been defined. The aim is to build a predictive model and predict the sales."
   ]
  },
  {
   "cell_type": "markdown",
   "id": "049d5792",
   "metadata": {},
   "source": [
    "## Business Objective:\n",
    "BY using this model Big Mart will try to understand pattern in  their sales of differnt-differnt product accross cities which in turn increase their revenue "
   ]
  },
  {
   "cell_type": "markdown",
   "id": "1099de3d",
   "metadata": {},
   "source": [
    "## Project Objective:\n",
    "We will convert this Problem to machine learning Regression Problem.We will build regression model which will predict sales of product across differnt cities."
   ]
  },
  {
   "cell_type": "markdown",
   "id": "b14697fa",
   "metadata": {},
   "source": [
    "## Data Set Information :\n",
    "Big Mart sales data for 1559 products across 10 stores in different cities in 2013 (Analytics Vidhya Hackathons)"
   ]
  },
  {
   "cell_type": "markdown",
   "id": "e942b151",
   "metadata": {},
   "source": [
    "## Attribute Information\n",
    "- Item_Identifier: Unique product ID\n",
    "- Item_Weight: Weight of product  \n",
    "- Item_Fat_Content: Whether the product is low fat or not  \n",
    "- Item_Visibility: The % of total display area of all products in a store allocated to the particular product  \n",
    "- Item_Type: The category to which the product belongs  \n",
    "- Item_MRP: Maximum Retail Price (list price) of the product  \n",
    "- Outlet_Identifier: Unique store ID  \n",
    "- Outlet_Establishment_Year: The year in which store was established  \n",
    "- Outlet_Size: The size of the store in terms of ground area covered  \n",
    "- Outlet_Location_Type: The type of city in which the store is located  \n",
    "- Outlet_Type: Whether the outlet is just a grocery store or some sort of supermarket   \n",
    "- Item_Outlet_Sales: Sales of the product in the particular store. This is the outcome variable to be predicted  "
   ]
  },
  {
   "cell_type": "markdown",
   "id": "02fb46de",
   "metadata": {},
   "source": [
    "## Data Analysis"
   ]
  },
  {
   "cell_type": "code",
   "execution_count": 1,
   "id": "626a6d25",
   "metadata": {},
   "outputs": [],
   "source": [
    "import pandas as pd\n",
    "import numpy as np\n",
    "import seaborn as sns\n",
    "import matplotlib.pyplot as plt\n",
    "from scipy.stats import mode\n",
    "import warnings\n",
    "warnings.filterwarnings('ignore')\n",
    "from sklearn.preprocessing import LabelEncoder"
   ]
  },
  {
   "cell_type": "code",
   "execution_count": 2,
   "id": "b79fca0a",
   "metadata": {},
   "outputs": [],
   "source": [
    "df = pd.read_csv(\"Train.csv\")"
   ]
  },
  {
   "cell_type": "code",
   "execution_count": 3,
   "id": "bf433a3c",
   "metadata": {},
   "outputs": [
    {
     "data": {
      "text/html": [
       "<div>\n",
       "<style scoped>\n",
       "    .dataframe tbody tr th:only-of-type {\n",
       "        vertical-align: middle;\n",
       "    }\n",
       "\n",
       "    .dataframe tbody tr th {\n",
       "        vertical-align: top;\n",
       "    }\n",
       "\n",
       "    .dataframe thead th {\n",
       "        text-align: right;\n",
       "    }\n",
       "</style>\n",
       "<table border=\"1\" class=\"dataframe\">\n",
       "  <thead>\n",
       "    <tr style=\"text-align: right;\">\n",
       "      <th></th>\n",
       "      <th>Item_Identifier</th>\n",
       "      <th>Item_Weight</th>\n",
       "      <th>Item_Fat_Content</th>\n",
       "      <th>Item_Visibility</th>\n",
       "      <th>Item_Type</th>\n",
       "      <th>Item_MRP</th>\n",
       "      <th>Outlet_Identifier</th>\n",
       "      <th>Outlet_Establishment_Year</th>\n",
       "      <th>Outlet_Size</th>\n",
       "      <th>Outlet_Location_Type</th>\n",
       "      <th>Outlet_Type</th>\n",
       "      <th>Item_Outlet_Sales</th>\n",
       "    </tr>\n",
       "  </thead>\n",
       "  <tbody>\n",
       "    <tr>\n",
       "      <th>0</th>\n",
       "      <td>FDA15</td>\n",
       "      <td>9.30</td>\n",
       "      <td>Low Fat</td>\n",
       "      <td>0.016047</td>\n",
       "      <td>Dairy</td>\n",
       "      <td>249.8092</td>\n",
       "      <td>OUT049</td>\n",
       "      <td>1999</td>\n",
       "      <td>Medium</td>\n",
       "      <td>Tier 1</td>\n",
       "      <td>Supermarket Type1</td>\n",
       "      <td>3735.1380</td>\n",
       "    </tr>\n",
       "    <tr>\n",
       "      <th>1</th>\n",
       "      <td>DRC01</td>\n",
       "      <td>5.92</td>\n",
       "      <td>Regular</td>\n",
       "      <td>0.019278</td>\n",
       "      <td>Soft Drinks</td>\n",
       "      <td>48.2692</td>\n",
       "      <td>OUT018</td>\n",
       "      <td>2009</td>\n",
       "      <td>Medium</td>\n",
       "      <td>Tier 3</td>\n",
       "      <td>Supermarket Type2</td>\n",
       "      <td>443.4228</td>\n",
       "    </tr>\n",
       "    <tr>\n",
       "      <th>2</th>\n",
       "      <td>FDN15</td>\n",
       "      <td>17.50</td>\n",
       "      <td>Low Fat</td>\n",
       "      <td>0.016760</td>\n",
       "      <td>Meat</td>\n",
       "      <td>141.6180</td>\n",
       "      <td>OUT049</td>\n",
       "      <td>1999</td>\n",
       "      <td>Medium</td>\n",
       "      <td>Tier 1</td>\n",
       "      <td>Supermarket Type1</td>\n",
       "      <td>2097.2700</td>\n",
       "    </tr>\n",
       "    <tr>\n",
       "      <th>3</th>\n",
       "      <td>FDX07</td>\n",
       "      <td>19.20</td>\n",
       "      <td>Regular</td>\n",
       "      <td>0.000000</td>\n",
       "      <td>Fruits and Vegetables</td>\n",
       "      <td>182.0950</td>\n",
       "      <td>OUT010</td>\n",
       "      <td>1998</td>\n",
       "      <td>NaN</td>\n",
       "      <td>Tier 3</td>\n",
       "      <td>Grocery Store</td>\n",
       "      <td>732.3800</td>\n",
       "    </tr>\n",
       "    <tr>\n",
       "      <th>4</th>\n",
       "      <td>NCD19</td>\n",
       "      <td>8.93</td>\n",
       "      <td>Low Fat</td>\n",
       "      <td>0.000000</td>\n",
       "      <td>Household</td>\n",
       "      <td>53.8614</td>\n",
       "      <td>OUT013</td>\n",
       "      <td>1987</td>\n",
       "      <td>High</td>\n",
       "      <td>Tier 3</td>\n",
       "      <td>Supermarket Type1</td>\n",
       "      <td>994.7052</td>\n",
       "    </tr>\n",
       "  </tbody>\n",
       "</table>\n",
       "</div>"
      ],
      "text/plain": [
       "  Item_Identifier  Item_Weight Item_Fat_Content  Item_Visibility  \\\n",
       "0           FDA15         9.30          Low Fat         0.016047   \n",
       "1           DRC01         5.92          Regular         0.019278   \n",
       "2           FDN15        17.50          Low Fat         0.016760   \n",
       "3           FDX07        19.20          Regular         0.000000   \n",
       "4           NCD19         8.93          Low Fat         0.000000   \n",
       "\n",
       "               Item_Type  Item_MRP Outlet_Identifier  \\\n",
       "0                  Dairy  249.8092            OUT049   \n",
       "1            Soft Drinks   48.2692            OUT018   \n",
       "2                   Meat  141.6180            OUT049   \n",
       "3  Fruits and Vegetables  182.0950            OUT010   \n",
       "4              Household   53.8614            OUT013   \n",
       "\n",
       "   Outlet_Establishment_Year Outlet_Size Outlet_Location_Type  \\\n",
       "0                       1999      Medium               Tier 1   \n",
       "1                       2009      Medium               Tier 3   \n",
       "2                       1999      Medium               Tier 1   \n",
       "3                       1998         NaN               Tier 3   \n",
       "4                       1987        High               Tier 3   \n",
       "\n",
       "         Outlet_Type  Item_Outlet_Sales  \n",
       "0  Supermarket Type1          3735.1380  \n",
       "1  Supermarket Type2           443.4228  \n",
       "2  Supermarket Type1          2097.2700  \n",
       "3      Grocery Store           732.3800  \n",
       "4  Supermarket Type1           994.7052  "
      ]
     },
     "execution_count": 3,
     "metadata": {},
     "output_type": "execute_result"
    }
   ],
   "source": [
    "df.head()"
   ]
  },
  {
   "cell_type": "code",
   "execution_count": 4,
   "id": "ec26eef5",
   "metadata": {},
   "outputs": [
    {
     "data": {
      "text/html": [
       "<div>\n",
       "<style scoped>\n",
       "    .dataframe tbody tr th:only-of-type {\n",
       "        vertical-align: middle;\n",
       "    }\n",
       "\n",
       "    .dataframe tbody tr th {\n",
       "        vertical-align: top;\n",
       "    }\n",
       "\n",
       "    .dataframe thead th {\n",
       "        text-align: right;\n",
       "    }\n",
       "</style>\n",
       "<table border=\"1\" class=\"dataframe\">\n",
       "  <thead>\n",
       "    <tr style=\"text-align: right;\">\n",
       "      <th></th>\n",
       "      <th>Item_Weight</th>\n",
       "      <th>Item_Visibility</th>\n",
       "      <th>Item_MRP</th>\n",
       "      <th>Outlet_Establishment_Year</th>\n",
       "      <th>Item_Outlet_Sales</th>\n",
       "    </tr>\n",
       "  </thead>\n",
       "  <tbody>\n",
       "    <tr>\n",
       "      <th>count</th>\n",
       "      <td>7060.000000</td>\n",
       "      <td>8523.000000</td>\n",
       "      <td>8523.000000</td>\n",
       "      <td>8523.000000</td>\n",
       "      <td>8523.000000</td>\n",
       "    </tr>\n",
       "    <tr>\n",
       "      <th>mean</th>\n",
       "      <td>12.857645</td>\n",
       "      <td>0.066132</td>\n",
       "      <td>140.992782</td>\n",
       "      <td>1997.831867</td>\n",
       "      <td>2181.288914</td>\n",
       "    </tr>\n",
       "    <tr>\n",
       "      <th>std</th>\n",
       "      <td>4.643456</td>\n",
       "      <td>0.051598</td>\n",
       "      <td>62.275067</td>\n",
       "      <td>8.371760</td>\n",
       "      <td>1706.499616</td>\n",
       "    </tr>\n",
       "    <tr>\n",
       "      <th>min</th>\n",
       "      <td>4.555000</td>\n",
       "      <td>0.000000</td>\n",
       "      <td>31.290000</td>\n",
       "      <td>1985.000000</td>\n",
       "      <td>33.290000</td>\n",
       "    </tr>\n",
       "    <tr>\n",
       "      <th>25%</th>\n",
       "      <td>8.773750</td>\n",
       "      <td>0.026989</td>\n",
       "      <td>93.826500</td>\n",
       "      <td>1987.000000</td>\n",
       "      <td>834.247400</td>\n",
       "    </tr>\n",
       "    <tr>\n",
       "      <th>50%</th>\n",
       "      <td>12.600000</td>\n",
       "      <td>0.053931</td>\n",
       "      <td>143.012800</td>\n",
       "      <td>1999.000000</td>\n",
       "      <td>1794.331000</td>\n",
       "    </tr>\n",
       "    <tr>\n",
       "      <th>75%</th>\n",
       "      <td>16.850000</td>\n",
       "      <td>0.094585</td>\n",
       "      <td>185.643700</td>\n",
       "      <td>2004.000000</td>\n",
       "      <td>3101.296400</td>\n",
       "    </tr>\n",
       "    <tr>\n",
       "      <th>max</th>\n",
       "      <td>21.350000</td>\n",
       "      <td>0.328391</td>\n",
       "      <td>266.888400</td>\n",
       "      <td>2009.000000</td>\n",
       "      <td>13086.964800</td>\n",
       "    </tr>\n",
       "  </tbody>\n",
       "</table>\n",
       "</div>"
      ],
      "text/plain": [
       "       Item_Weight  Item_Visibility     Item_MRP  Outlet_Establishment_Year  \\\n",
       "count  7060.000000      8523.000000  8523.000000                8523.000000   \n",
       "mean     12.857645         0.066132   140.992782                1997.831867   \n",
       "std       4.643456         0.051598    62.275067                   8.371760   \n",
       "min       4.555000         0.000000    31.290000                1985.000000   \n",
       "25%       8.773750         0.026989    93.826500                1987.000000   \n",
       "50%      12.600000         0.053931   143.012800                1999.000000   \n",
       "75%      16.850000         0.094585   185.643700                2004.000000   \n",
       "max      21.350000         0.328391   266.888400                2009.000000   \n",
       "\n",
       "       Item_Outlet_Sales  \n",
       "count        8523.000000  \n",
       "mean         2181.288914  \n",
       "std          1706.499616  \n",
       "min            33.290000  \n",
       "25%           834.247400  \n",
       "50%          1794.331000  \n",
       "75%          3101.296400  \n",
       "max         13086.964800  "
      ]
     },
     "execution_count": 4,
     "metadata": {},
     "output_type": "execute_result"
    }
   ],
   "source": [
    "#statistical info about numerical feature of data set\n",
    "df.describe()"
   ]
  },
  {
   "cell_type": "code",
   "execution_count": 5,
   "id": "b4126ab4",
   "metadata": {},
   "outputs": [
    {
     "data": {
      "text/plain": [
       "(8523, 12)"
      ]
     },
     "execution_count": 5,
     "metadata": {},
     "output_type": "execute_result"
    }
   ],
   "source": [
    "#finding total rows and columns of the data\n",
    "df.shape"
   ]
  },
  {
   "cell_type": "code",
   "execution_count": 6,
   "id": "4247402d",
   "metadata": {},
   "outputs": [
    {
     "name": "stdout",
     "output_type": "stream",
     "text": [
      "<class 'pandas.core.frame.DataFrame'>\n",
      "RangeIndex: 8523 entries, 0 to 8522\n",
      "Data columns (total 12 columns):\n",
      " #   Column                     Non-Null Count  Dtype  \n",
      "---  ------                     --------------  -----  \n",
      " 0   Item_Identifier            8523 non-null   object \n",
      " 1   Item_Weight                7060 non-null   float64\n",
      " 2   Item_Fat_Content           8523 non-null   object \n",
      " 3   Item_Visibility            8523 non-null   float64\n",
      " 4   Item_Type                  8523 non-null   object \n",
      " 5   Item_MRP                   8523 non-null   float64\n",
      " 6   Outlet_Identifier          8523 non-null   object \n",
      " 7   Outlet_Establishment_Year  8523 non-null   int64  \n",
      " 8   Outlet_Size                6113 non-null   object \n",
      " 9   Outlet_Location_Type       8523 non-null   object \n",
      " 10  Outlet_Type                8523 non-null   object \n",
      " 11  Item_Outlet_Sales          8523 non-null   float64\n",
      "dtypes: float64(4), int64(1), object(7)\n",
      "memory usage: 799.2+ KB\n"
     ]
    }
   ],
   "source": [
    "df.info()"
   ]
  },
  {
   "cell_type": "markdown",
   "id": "b0d193ad",
   "metadata": {},
   "source": [
    "we can see that item weight and outlet size have some missing values we have to impute these."
   ]
  },
  {
   "cell_type": "code",
   "execution_count": 7,
   "id": "6927a256",
   "metadata": {
    "scrolled": true
   },
   "outputs": [
    {
     "data": {
      "text/plain": [
       "Item_Identifier              1559\n",
       "Item_Weight                   415\n",
       "Item_Fat_Content                5\n",
       "Item_Visibility              7880\n",
       "Item_Type                      16\n",
       "Item_MRP                     5938\n",
       "Outlet_Identifier              10\n",
       "Outlet_Establishment_Year       9\n",
       "Outlet_Size                     3\n",
       "Outlet_Location_Type            3\n",
       "Outlet_Type                     4\n",
       "Item_Outlet_Sales            3493\n",
       "dtype: int64"
      ]
     },
     "execution_count": 7,
     "metadata": {},
     "output_type": "execute_result"
    }
   ],
   "source": [
    "#check unique value\n",
    "df.nunique()"
   ]
  },
  {
   "cell_type": "markdown",
   "id": "5d62038b",
   "metadata": {},
   "source": [
    "We have 1559 type of products\n",
    "16 type of item\n",
    "3 type of outlet size\n",
    "3 type of outlet location\n",
    "and 4 type of outlet"
   ]
  },
  {
   "cell_type": "code",
   "execution_count": 8,
   "id": "6d407973",
   "metadata": {},
   "outputs": [
    {
     "data": {
      "text/plain": [
       "Item_Identifier                 0\n",
       "Item_Weight                  1463\n",
       "Item_Fat_Content                0\n",
       "Item_Visibility                 0\n",
       "Item_Type                       0\n",
       "Item_MRP                        0\n",
       "Outlet_Identifier               0\n",
       "Outlet_Establishment_Year       0\n",
       "Outlet_Size                  2410\n",
       "Outlet_Location_Type            0\n",
       "Outlet_Type                     0\n",
       "Item_Outlet_Sales               0\n",
       "dtype: int64"
      ]
     },
     "execution_count": 8,
     "metadata": {},
     "output_type": "execute_result"
    }
   ],
   "source": [
    "#check null value\n",
    "df.isnull().sum()"
   ]
  },
  {
   "cell_type": "markdown",
   "id": "58b47000",
   "metadata": {},
   "source": [
    "#### Item_Weight contains 1463 null and Outlet_Size has 2410 null values"
   ]
  },
  {
   "cell_type": "markdown",
   "id": "2afeb836",
   "metadata": {},
   "source": [
    "Now i want to find the columns which have object data type i.e. the columns which has categorical type of data"
   ]
  },
  {
   "cell_type": "code",
   "execution_count": 9,
   "id": "8a0da24a",
   "metadata": {
    "scrolled": true
   },
   "outputs": [
    {
     "data": {
      "text/plain": [
       "['Item_Identifier',\n",
       " 'Item_Fat_Content',\n",
       " 'Item_Type',\n",
       " 'Outlet_Identifier',\n",
       " 'Outlet_Size',\n",
       " 'Outlet_Location_Type',\n",
       " 'Outlet_Type']"
      ]
     },
     "execution_count": 9,
     "metadata": {},
     "output_type": "execute_result"
    }
   ],
   "source": [
    "#check for categorical coloumns\n",
    "object_column = []\n",
    "for x in df:\n",
    "    if df[x].dtypes == \"object\":\n",
    "        object_column.append(x)\n",
    "object_column\n"
   ]
  },
  {
   "cell_type": "code",
   "execution_count": 10,
   "id": "477350a8",
   "metadata": {},
   "outputs": [
    {
     "data": {
      "text/plain": [
       "['Item_Fat_Content',\n",
       " 'Item_Type',\n",
       " 'Outlet_Size',\n",
       " 'Outlet_Location_Type',\n",
       " 'Outlet_Type']"
      ]
     },
     "execution_count": 10,
     "metadata": {},
     "output_type": "execute_result"
    }
   ],
   "source": [
    "object_column.remove(\"Item_Identifier\")\n",
    "object_column.remove(\"Outlet_Identifier\")\n",
    "object_column\n"
   ]
  },
  {
   "cell_type": "markdown",
   "id": "f51533ec",
   "metadata": {},
   "source": [
    "Now I want to look at which type of data is present in these coloumns and how many type of data is present in these columns and their respective value counts."
   ]
  },
  {
   "cell_type": "code",
   "execution_count": 11,
   "id": "ba43ade6",
   "metadata": {
    "scrolled": true
   },
   "outputs": [
    {
     "name": "stdout",
     "output_type": "stream",
     "text": [
      "Item_Fat_Content\n",
      "Low Fat    5089\n",
      "Regular    2889\n",
      "LF          316\n",
      "reg         117\n",
      "low fat     112\n",
      "Name: Item_Fat_Content, dtype: int64\n",
      "\n",
      "Item_Type\n",
      "Fruits and Vegetables    1232\n",
      "Snack Foods              1200\n",
      "Household                 910\n",
      "Frozen Foods              856\n",
      "Dairy                     682\n",
      "Canned                    649\n",
      "Baking Goods              648\n",
      "Health and Hygiene        520\n",
      "Soft Drinks               445\n",
      "Meat                      425\n",
      "Breads                    251\n",
      "Hard Drinks               214\n",
      "Others                    169\n",
      "Starchy Foods             148\n",
      "Breakfast                 110\n",
      "Seafood                    64\n",
      "Name: Item_Type, dtype: int64\n",
      "\n",
      "Outlet_Size\n",
      "Medium    2793\n",
      "Small     2388\n",
      "High       932\n",
      "Name: Outlet_Size, dtype: int64\n",
      "\n",
      "Outlet_Location_Type\n",
      "Tier 3    3350\n",
      "Tier 2    2785\n",
      "Tier 1    2388\n",
      "Name: Outlet_Location_Type, dtype: int64\n",
      "\n",
      "Outlet_Type\n",
      "Supermarket Type1    5577\n",
      "Grocery Store        1083\n",
      "Supermarket Type3     935\n",
      "Supermarket Type2     928\n",
      "Name: Outlet_Type, dtype: int64\n",
      "\n"
     ]
    }
   ],
   "source": [
    "#finding what are the  different type of item are in columns and their count\n",
    "for i in object_column:\n",
    "    print(i)\n",
    "    print(df[i].value_counts())\n",
    "    print()"
   ]
  },
  {
   "cell_type": "markdown",
   "id": "9618a9f7",
   "metadata": {},
   "source": [
    "# Imputing Missing Values"
   ]
  },
  {
   "cell_type": "markdown",
   "id": "8aedd8d8",
   "metadata": {},
   "source": [
    "Now i want to find the mean weight of different product but but mean will be product wise"
   ]
  },
  {
   "cell_type": "code",
   "execution_count": 12,
   "id": "772c8cc1",
   "metadata": {},
   "outputs": [
    {
     "data": {
      "text/html": [
       "<div>\n",
       "<style scoped>\n",
       "    .dataframe tbody tr th:only-of-type {\n",
       "        vertical-align: middle;\n",
       "    }\n",
       "\n",
       "    .dataframe tbody tr th {\n",
       "        vertical-align: top;\n",
       "    }\n",
       "\n",
       "    .dataframe thead th {\n",
       "        text-align: right;\n",
       "    }\n",
       "</style>\n",
       "<table border=\"1\" class=\"dataframe\">\n",
       "  <thead>\n",
       "    <tr style=\"text-align: right;\">\n",
       "      <th></th>\n",
       "      <th>Item_Weight</th>\n",
       "    </tr>\n",
       "    <tr>\n",
       "      <th>Item_Identifier</th>\n",
       "      <th></th>\n",
       "    </tr>\n",
       "  </thead>\n",
       "  <tbody>\n",
       "    <tr>\n",
       "      <th>DRA12</th>\n",
       "      <td>11.600</td>\n",
       "    </tr>\n",
       "    <tr>\n",
       "      <th>DRA24</th>\n",
       "      <td>19.350</td>\n",
       "    </tr>\n",
       "    <tr>\n",
       "      <th>DRA59</th>\n",
       "      <td>8.270</td>\n",
       "    </tr>\n",
       "    <tr>\n",
       "      <th>DRB01</th>\n",
       "      <td>7.390</td>\n",
       "    </tr>\n",
       "    <tr>\n",
       "      <th>DRB13</th>\n",
       "      <td>6.115</td>\n",
       "    </tr>\n",
       "    <tr>\n",
       "      <th>...</th>\n",
       "      <td>...</td>\n",
       "    </tr>\n",
       "    <tr>\n",
       "      <th>NCZ30</th>\n",
       "      <td>6.590</td>\n",
       "    </tr>\n",
       "    <tr>\n",
       "      <th>NCZ41</th>\n",
       "      <td>19.850</td>\n",
       "    </tr>\n",
       "    <tr>\n",
       "      <th>NCZ42</th>\n",
       "      <td>10.500</td>\n",
       "    </tr>\n",
       "    <tr>\n",
       "      <th>NCZ53</th>\n",
       "      <td>9.600</td>\n",
       "    </tr>\n",
       "    <tr>\n",
       "      <th>NCZ54</th>\n",
       "      <td>14.650</td>\n",
       "    </tr>\n",
       "  </tbody>\n",
       "</table>\n",
       "<p>1559 rows × 1 columns</p>\n",
       "</div>"
      ],
      "text/plain": [
       "                 Item_Weight\n",
       "Item_Identifier             \n",
       "DRA12                 11.600\n",
       "DRA24                 19.350\n",
       "DRA59                  8.270\n",
       "DRB01                  7.390\n",
       "DRB13                  6.115\n",
       "...                      ...\n",
       "NCZ30                  6.590\n",
       "NCZ41                 19.850\n",
       "NCZ42                 10.500\n",
       "NCZ53                  9.600\n",
       "NCZ54                 14.650\n",
       "\n",
       "[1559 rows x 1 columns]"
      ]
     },
     "execution_count": 12,
     "metadata": {},
     "output_type": "execute_result"
    }
   ],
   "source": [
    "#filling missing values\n",
    "item_weight_mean = df.groupby('Item_Identifier').agg({'Item_Weight':np.mean})\n",
    "item_weight_mean\n"
   ]
  },
  {
   "cell_type": "markdown",
   "id": "376a644c",
   "metadata": {},
   "source": [
    "Finding bollean of missing value in item weight column"
   ]
  },
  {
   "cell_type": "code",
   "execution_count": 13,
   "id": "6cf45483",
   "metadata": {},
   "outputs": [
    {
     "data": {
      "text/plain": [
       "0       False\n",
       "1       False\n",
       "2       False\n",
       "3       False\n",
       "4       False\n",
       "        ...  \n",
       "8518    False\n",
       "8519    False\n",
       "8520    False\n",
       "8521    False\n",
       "8522    False\n",
       "Name: Item_Weight, Length: 8523, dtype: bool"
      ]
     },
     "execution_count": 13,
     "metadata": {},
     "output_type": "execute_result"
    }
   ],
   "source": [
    "missing_item_weight = df[\"Item_Weight\"].isnull()\n",
    "missing_item_weight"
   ]
  },
  {
   "cell_type": "markdown",
   "id": "66709ee3",
   "metadata": {},
   "source": [
    "Now i will find location where boolean of missing value is true in that location i will check for item identifire and i will fill mean of that item identifire in location of item weight."
   ]
  },
  {
   "cell_type": "code",
   "execution_count": 14,
   "id": "1e64b433",
   "metadata": {},
   "outputs": [],
   "source": [
    "for i, item in enumerate(df[\"Item_Identifier\"]):\n",
    "    if missing_item_weight[i]:\n",
    "        if item in item_weight_mean:\n",
    "            df[\"Item_Weight\"][i] = item_weight_mean.loc[item][\"Item_Weight\"]\n",
    "        else:\n",
    "            df[\"Item_Weight\"][i] = np.mean(df['Item_Weight'])"
   ]
  },
  {
   "cell_type": "code",
   "execution_count": 15,
   "id": "4e6ff447",
   "metadata": {},
   "outputs": [
    {
     "data": {
      "text/plain": [
       "0"
      ]
     },
     "execution_count": 15,
     "metadata": {},
     "output_type": "execute_result"
    }
   ],
   "source": [
    "df[\"Item_Weight\"].isnull().sum()"
   ]
  },
  {
   "cell_type": "markdown",
   "id": "8a6f74fc",
   "metadata": {},
   "source": [
    "Now finding the outlet type with their respective mode value"
   ]
  },
  {
   "cell_type": "code",
   "execution_count": 16,
   "id": "b36bf774",
   "metadata": {},
   "outputs": [],
   "source": [
    "outlet_size_mode = df.pivot_table(values = \"Outlet_Size\" , columns = \"Outlet_Type\", aggfunc=(lambda x: x.mode([0])))"
   ]
  },
  {
   "cell_type": "code",
   "execution_count": 17,
   "id": "79988f6d",
   "metadata": {},
   "outputs": [
    {
     "data": {
      "text/html": [
       "<div>\n",
       "<style scoped>\n",
       "    .dataframe tbody tr th:only-of-type {\n",
       "        vertical-align: middle;\n",
       "    }\n",
       "\n",
       "    .dataframe tbody tr th {\n",
       "        vertical-align: top;\n",
       "    }\n",
       "\n",
       "    .dataframe thead th {\n",
       "        text-align: right;\n",
       "    }\n",
       "</style>\n",
       "<table border=\"1\" class=\"dataframe\">\n",
       "  <thead>\n",
       "    <tr style=\"text-align: right;\">\n",
       "      <th>Outlet_Type</th>\n",
       "      <th>Grocery Store</th>\n",
       "      <th>Supermarket Type1</th>\n",
       "      <th>Supermarket Type2</th>\n",
       "      <th>Supermarket Type3</th>\n",
       "    </tr>\n",
       "  </thead>\n",
       "  <tbody>\n",
       "    <tr>\n",
       "      <th>Outlet_Size</th>\n",
       "      <td>Small</td>\n",
       "      <td>Small</td>\n",
       "      <td>Medium</td>\n",
       "      <td>Medium</td>\n",
       "    </tr>\n",
       "  </tbody>\n",
       "</table>\n",
       "</div>"
      ],
      "text/plain": [
       "Outlet_Type Grocery Store Supermarket Type1 Supermarket Type2  \\\n",
       "Outlet_Size         Small             Small            Medium   \n",
       "\n",
       "Outlet_Type Supermarket Type3  \n",
       "Outlet_Size            Medium  "
      ]
     },
     "execution_count": 17,
     "metadata": {},
     "output_type": "execute_result"
    }
   ],
   "source": [
    "outlet_size_mode"
   ]
  },
  {
   "cell_type": "code",
   "execution_count": 18,
   "id": "ca973ebf",
   "metadata": {},
   "outputs": [
    {
     "data": {
      "text/plain": [
       "0       False\n",
       "1       False\n",
       "2       False\n",
       "3        True\n",
       "4       False\n",
       "        ...  \n",
       "8518    False\n",
       "8519     True\n",
       "8520    False\n",
       "8521    False\n",
       "8522    False\n",
       "Name: Outlet_Size, Length: 8523, dtype: bool"
      ]
     },
     "execution_count": 18,
     "metadata": {},
     "output_type": "execute_result"
    }
   ],
   "source": [
    "missing_outlet = df[\"Outlet_Size\"].isnull()\n",
    "missing_outlet"
   ]
  },
  {
   "cell_type": "markdown",
   "id": "94ab9079",
   "metadata": {},
   "source": [
    "Now checking Boolean of missing value of outlest size and finding the outlet type of that missing value and filling that missing value with respect to outlet type"
   ]
  },
  {
   "cell_type": "code",
   "execution_count": 19,
   "id": "31f54a80",
   "metadata": {},
   "outputs": [],
   "source": [
    "df.loc[missing_outlet ,'Outlet_Size'] = df.loc[missing_outlet ,'Outlet_Type'].apply(lambda x: outlet_size_mode[x])"
   ]
  },
  {
   "cell_type": "code",
   "execution_count": 20,
   "id": "504fc093",
   "metadata": {},
   "outputs": [
    {
     "data": {
      "text/plain": [
       "0"
      ]
     },
     "execution_count": 20,
     "metadata": {},
     "output_type": "execute_result"
    }
   ],
   "source": [
    "df[\"Outlet_Size\"].isnull().sum()"
   ]
  },
  {
   "cell_type": "markdown",
   "id": "9b71638c",
   "metadata": {},
   "source": [
    "#### Now we have seen from describe that item visibility has 0 value which makes no practical sense.so we will replace the 0 value with mean of the Item_Visibility"
   ]
  },
  {
   "cell_type": "code",
   "execution_count": 21,
   "id": "ac6f12b6",
   "metadata": {},
   "outputs": [
    {
     "data": {
      "text/plain": [
       "526"
      ]
     },
     "execution_count": 21,
     "metadata": {},
     "output_type": "execute_result"
    }
   ],
   "source": [
    "(df['Item_Visibility']==0).sum()"
   ]
  },
  {
   "cell_type": "code",
   "execution_count": 22,
   "id": "8eba181b",
   "metadata": {},
   "outputs": [],
   "source": [
    "df.loc[:,'Item_Visibility'].replace([0],[df['Item_Visibility'].mean()] , inplace=True)"
   ]
  },
  {
   "cell_type": "code",
   "execution_count": 23,
   "id": "cc3bd941",
   "metadata": {},
   "outputs": [
    {
     "data": {
      "text/plain": [
       "0"
      ]
     },
     "execution_count": 23,
     "metadata": {},
     "output_type": "execute_result"
    }
   ],
   "source": [
    "(df['Item_Visibility']==0).sum()"
   ]
  },
  {
   "cell_type": "markdown",
   "id": "7c296899",
   "metadata": {},
   "source": [
    "Now from value counts we found that Item fat content has LF and low fat both so making them as single Low fat entry"
   ]
  },
  {
   "cell_type": "code",
   "execution_count": 24,
   "id": "48baa5d3",
   "metadata": {},
   "outputs": [
    {
     "data": {
      "text/plain": [
       "Low Fat    5517\n",
       "Regular    3006\n",
       "Name: Item_Fat_Content, dtype: int64"
      ]
     },
     "execution_count": 24,
     "metadata": {},
     "output_type": "execute_result"
    }
   ],
   "source": [
    "df['Item_Fat_Content'] = df['Item_Fat_Content'].replace({'LF':'Low Fat','low fat':'Low Fat','reg':'Regular'})\n",
    "df['Item_Fat_Content'].value_counts()"
   ]
  },
  {
   "cell_type": "code",
   "execution_count": null,
   "id": "d72146bf",
   "metadata": {},
   "outputs": [],
   "source": []
  },
  {
   "cell_type": "markdown",
   "id": "dccff8ed",
   "metadata": {},
   "source": [
    "# Feature Engineering"
   ]
  },
  {
   "cell_type": "markdown",
   "id": "630c3cb6",
   "metadata": {},
   "source": [
    "We will extract intial two word from item identifire and we can make new feature as new item type which will define wheather it is a food drinking or non consumable item."
   ]
  },
  {
   "cell_type": "code",
   "execution_count": 25,
   "id": "fd061254",
   "metadata": {},
   "outputs": [],
   "source": [
    "df['New_Item_Type'] = df['Item_Identifier'].apply(lambda x: x[:2])"
   ]
  },
  {
   "cell_type": "code",
   "execution_count": 26,
   "id": "d27385ee",
   "metadata": {},
   "outputs": [
    {
     "data": {
      "text/plain": [
       "0       FD\n",
       "1       DR\n",
       "2       FD\n",
       "3       FD\n",
       "4       NC\n",
       "        ..\n",
       "8518    FD\n",
       "8519    FD\n",
       "8520    NC\n",
       "8521    FD\n",
       "8522    DR\n",
       "Name: New_Item_Type, Length: 8523, dtype: object"
      ]
     },
     "execution_count": 26,
     "metadata": {},
     "output_type": "execute_result"
    }
   ],
   "source": [
    "df['New_Item_Type']"
   ]
  },
  {
   "cell_type": "code",
   "execution_count": 27,
   "id": "64b0c52e",
   "metadata": {},
   "outputs": [],
   "source": [
    "df['New_Item_Type'] =df['New_Item_Type'].map({'FD':'Food','DR':'Drinking','NC':'Non-Consumable'})"
   ]
  },
  {
   "cell_type": "code",
   "execution_count": 28,
   "id": "5fbc3c39",
   "metadata": {},
   "outputs": [
    {
     "data": {
      "text/plain": [
       "Food              6125\n",
       "Non-Consumable    1599\n",
       "Drinking           799\n",
       "Name: New_Item_Type, dtype: int64"
      ]
     },
     "execution_count": 28,
     "metadata": {},
     "output_type": "execute_result"
    }
   ],
   "source": [
    "df['New_Item_Type'].value_counts()"
   ]
  },
  {
   "cell_type": "markdown",
   "id": "41a11273",
   "metadata": {},
   "source": [
    "Now we will check loaction of new item = nonconsumable and if item fat content is there making it as nonedible because item which is non cosumable can be eaten "
   ]
  },
  {
   "cell_type": "code",
   "execution_count": 29,
   "id": "5c516a75",
   "metadata": {},
   "outputs": [
    {
     "data": {
      "text/plain": [
       "Low Fat       3918\n",
       "Regular       3006\n",
       "Non-Edible    1599\n",
       "Name: Item_Fat_Content, dtype: int64"
      ]
     },
     "execution_count": 29,
     "metadata": {},
     "output_type": "execute_result"
    }
   ],
   "source": [
    "df.loc[df['New_Item_Type']=='Non-Consumable','Item_Fat_Content'] = 'Non-Edible'\n",
    "df['Item_Fat_Content'].value_counts()"
   ]
  },
  {
   "cell_type": "code",
   "execution_count": 30,
   "id": "dba3359c",
   "metadata": {},
   "outputs": [],
   "source": [
    "perishable = [\"Breads\", \"Breakfast\", \"Dairy\", \"Snack Foods\",\"Fruits and Vegetables\", \"Meat\", \"Seafood\", \"Starchy Foods\"]\n",
    "non_perishable = [\"Baking Goods\", \"Canned\", \"Frozen Foods\", \"Hard Drinks\", \"Health and Hygiene\",\"Household\", \"Soft Drinks\"]"
   ]
  },
  {
   "cell_type": "code",
   "execution_count": 31,
   "id": "19448259",
   "metadata": {},
   "outputs": [],
   "source": [
    "def new_item_type(item):\n",
    "    if item in perishable:\n",
    "        return 'perishable'\n",
    "    if item in non_perishable:\n",
    "        return 'non_perishable'\n",
    "    else:\n",
    "        return 'not-known'"
   ]
  },
  {
   "cell_type": "code",
   "execution_count": 32,
   "id": "49816743",
   "metadata": {},
   "outputs": [],
   "source": [
    "df['Shelf_life'] = df['Item_Type'].apply(new_item_type)"
   ]
  },
  {
   "cell_type": "code",
   "execution_count": 33,
   "id": "7b021fe5",
   "metadata": {},
   "outputs": [
    {
     "data": {
      "text/plain": [
       "non_perishable    4242\n",
       "perishable        4112\n",
       "not-known          169\n",
       "Name: Shelf_life, dtype: int64"
      ]
     },
     "execution_count": 33,
     "metadata": {},
     "output_type": "execute_result"
    }
   ],
   "source": [
    "df['Shelf_life'].value_counts()"
   ]
  },
  {
   "cell_type": "code",
   "execution_count": 34,
   "id": "9d58ab02",
   "metadata": {},
   "outputs": [],
   "source": [
    "df['MRP_per_unit_weight'] = df['Item_MRP']/df['Item_Weight']"
   ]
  },
  {
   "cell_type": "code",
   "execution_count": 35,
   "id": "3d814f88",
   "metadata": {},
   "outputs": [],
   "source": [
    "df['Outlet_Years'] = 2013 - df['Outlet_Establishment_Year']"
   ]
  },
  {
   "cell_type": "code",
   "execution_count": 36,
   "id": "c284bca3",
   "metadata": {},
   "outputs": [
    {
     "data": {
      "text/html": [
       "<div>\n",
       "<style scoped>\n",
       "    .dataframe tbody tr th:only-of-type {\n",
       "        vertical-align: middle;\n",
       "    }\n",
       "\n",
       "    .dataframe tbody tr th {\n",
       "        vertical-align: top;\n",
       "    }\n",
       "\n",
       "    .dataframe thead th {\n",
       "        text-align: right;\n",
       "    }\n",
       "</style>\n",
       "<table border=\"1\" class=\"dataframe\">\n",
       "  <thead>\n",
       "    <tr style=\"text-align: right;\">\n",
       "      <th></th>\n",
       "      <th>Item_Identifier</th>\n",
       "      <th>Item_Weight</th>\n",
       "      <th>Item_Fat_Content</th>\n",
       "      <th>Item_Visibility</th>\n",
       "      <th>Item_Type</th>\n",
       "      <th>Item_MRP</th>\n",
       "      <th>Outlet_Identifier</th>\n",
       "      <th>Outlet_Establishment_Year</th>\n",
       "      <th>Outlet_Size</th>\n",
       "      <th>Outlet_Location_Type</th>\n",
       "      <th>Outlet_Type</th>\n",
       "      <th>Item_Outlet_Sales</th>\n",
       "      <th>New_Item_Type</th>\n",
       "      <th>Shelf_life</th>\n",
       "      <th>MRP_per_unit_weight</th>\n",
       "      <th>Outlet_Years</th>\n",
       "    </tr>\n",
       "  </thead>\n",
       "  <tbody>\n",
       "    <tr>\n",
       "      <th>0</th>\n",
       "      <td>FDA15</td>\n",
       "      <td>9.30</td>\n",
       "      <td>Low Fat</td>\n",
       "      <td>0.016047</td>\n",
       "      <td>Dairy</td>\n",
       "      <td>249.8092</td>\n",
       "      <td>OUT049</td>\n",
       "      <td>1999</td>\n",
       "      <td>Medium</td>\n",
       "      <td>Tier 1</td>\n",
       "      <td>Supermarket Type1</td>\n",
       "      <td>3735.1380</td>\n",
       "      <td>Food</td>\n",
       "      <td>perishable</td>\n",
       "      <td>26.861204</td>\n",
       "      <td>14</td>\n",
       "    </tr>\n",
       "    <tr>\n",
       "      <th>1</th>\n",
       "      <td>DRC01</td>\n",
       "      <td>5.92</td>\n",
       "      <td>Regular</td>\n",
       "      <td>0.019278</td>\n",
       "      <td>Soft Drinks</td>\n",
       "      <td>48.2692</td>\n",
       "      <td>OUT018</td>\n",
       "      <td>2009</td>\n",
       "      <td>Medium</td>\n",
       "      <td>Tier 3</td>\n",
       "      <td>Supermarket Type2</td>\n",
       "      <td>443.4228</td>\n",
       "      <td>Drinking</td>\n",
       "      <td>non_perishable</td>\n",
       "      <td>8.153581</td>\n",
       "      <td>4</td>\n",
       "    </tr>\n",
       "    <tr>\n",
       "      <th>2</th>\n",
       "      <td>FDN15</td>\n",
       "      <td>17.50</td>\n",
       "      <td>Low Fat</td>\n",
       "      <td>0.016760</td>\n",
       "      <td>Meat</td>\n",
       "      <td>141.6180</td>\n",
       "      <td>OUT049</td>\n",
       "      <td>1999</td>\n",
       "      <td>Medium</td>\n",
       "      <td>Tier 1</td>\n",
       "      <td>Supermarket Type1</td>\n",
       "      <td>2097.2700</td>\n",
       "      <td>Food</td>\n",
       "      <td>perishable</td>\n",
       "      <td>8.092457</td>\n",
       "      <td>14</td>\n",
       "    </tr>\n",
       "    <tr>\n",
       "      <th>3</th>\n",
       "      <td>FDX07</td>\n",
       "      <td>19.20</td>\n",
       "      <td>Regular</td>\n",
       "      <td>0.066132</td>\n",
       "      <td>Fruits and Vegetables</td>\n",
       "      <td>182.0950</td>\n",
       "      <td>OUT010</td>\n",
       "      <td>1998</td>\n",
       "      <td>Small</td>\n",
       "      <td>Tier 3</td>\n",
       "      <td>Grocery Store</td>\n",
       "      <td>732.3800</td>\n",
       "      <td>Food</td>\n",
       "      <td>perishable</td>\n",
       "      <td>9.484115</td>\n",
       "      <td>15</td>\n",
       "    </tr>\n",
       "    <tr>\n",
       "      <th>4</th>\n",
       "      <td>NCD19</td>\n",
       "      <td>8.93</td>\n",
       "      <td>Non-Edible</td>\n",
       "      <td>0.066132</td>\n",
       "      <td>Household</td>\n",
       "      <td>53.8614</td>\n",
       "      <td>OUT013</td>\n",
       "      <td>1987</td>\n",
       "      <td>High</td>\n",
       "      <td>Tier 3</td>\n",
       "      <td>Supermarket Type1</td>\n",
       "      <td>994.7052</td>\n",
       "      <td>Non-Consumable</td>\n",
       "      <td>non_perishable</td>\n",
       "      <td>6.031512</td>\n",
       "      <td>26</td>\n",
       "    </tr>\n",
       "  </tbody>\n",
       "</table>\n",
       "</div>"
      ],
      "text/plain": [
       "  Item_Identifier  Item_Weight Item_Fat_Content  Item_Visibility  \\\n",
       "0           FDA15         9.30          Low Fat         0.016047   \n",
       "1           DRC01         5.92          Regular         0.019278   \n",
       "2           FDN15        17.50          Low Fat         0.016760   \n",
       "3           FDX07        19.20          Regular         0.066132   \n",
       "4           NCD19         8.93       Non-Edible         0.066132   \n",
       "\n",
       "               Item_Type  Item_MRP Outlet_Identifier  \\\n",
       "0                  Dairy  249.8092            OUT049   \n",
       "1            Soft Drinks   48.2692            OUT018   \n",
       "2                   Meat  141.6180            OUT049   \n",
       "3  Fruits and Vegetables  182.0950            OUT010   \n",
       "4              Household   53.8614            OUT013   \n",
       "\n",
       "   Outlet_Establishment_Year Outlet_Size Outlet_Location_Type  \\\n",
       "0                       1999      Medium               Tier 1   \n",
       "1                       2009      Medium               Tier 3   \n",
       "2                       1999      Medium               Tier 1   \n",
       "3                       1998       Small               Tier 3   \n",
       "4                       1987        High               Tier 3   \n",
       "\n",
       "         Outlet_Type  Item_Outlet_Sales   New_Item_Type      Shelf_life  \\\n",
       "0  Supermarket Type1          3735.1380            Food      perishable   \n",
       "1  Supermarket Type2           443.4228        Drinking  non_perishable   \n",
       "2  Supermarket Type1          2097.2700            Food      perishable   \n",
       "3      Grocery Store           732.3800            Food      perishable   \n",
       "4  Supermarket Type1           994.7052  Non-Consumable  non_perishable   \n",
       "\n",
       "   MRP_per_unit_weight  Outlet_Years  \n",
       "0            26.861204            14  \n",
       "1             8.153581             4  \n",
       "2             8.092457            14  \n",
       "3             9.484115            15  \n",
       "4             6.031512            26  "
      ]
     },
     "execution_count": 36,
     "metadata": {},
     "output_type": "execute_result"
    }
   ],
   "source": [
    "df.head()"
   ]
  },
  {
   "cell_type": "markdown",
   "id": "aba543f3",
   "metadata": {},
   "source": [
    "## Exploratory Data Analysis"
   ]
  },
  {
   "cell_type": "markdown",
   "id": "41b81d63",
   "metadata": {},
   "source": [
    "### Visualizing Numerical Feature"
   ]
  },
  {
   "cell_type": "code",
   "execution_count": 37,
   "id": "31735ce6",
   "metadata": {},
   "outputs": [
    {
     "data": {
      "text/plain": [
       "<AxesSubplot:xlabel='Item_Weight', ylabel='Density'>"
      ]
     },
     "execution_count": 37,
     "metadata": {},
     "output_type": "execute_result"
    },
    {
     "data": {
      "image/png": "[encoded data removed]",
      "text/plain": [
       "<Figure size 576x432 with 1 Axes>"
      ]
     },
     "metadata": {
      "needs_background": "light"
     },
     "output_type": "display_data"
    }
   ],
   "source": [
    "plt.figure(figsize=(8,6))\n",
    "sns.distplot(df['Item_Weight'], bins=20)"
   ]
  },
  {
   "cell_type": "code",
   "execution_count": 38,
   "id": "c229e823",
   "metadata": {},
   "outputs": [
    {
     "data": {
      "text/plain": [
       "<AxesSubplot:xlabel='Item_Visibility', ylabel='Density'>"
      ]
     },
     "execution_count": 38,
     "metadata": {},
     "output_type": "execute_result"
    },
    {
     "data": {
      "image/png": "[encoded data removed]",
      "text/plain": [
       "<Figure size 576x432 with 1 Axes>"
      ]
     },
     "metadata": {
      "needs_background": "light"
     },
     "output_type": "display_data"
    }
   ],
   "source": [
    "plt.figure(figsize=(8,6))\n",
    "sns.distplot(df['Item_Visibility'], bins=20)"
   ]
  },
  {
   "cell_type": "code",
   "execution_count": 39,
   "id": "eaae5bc2",
   "metadata": {},
   "outputs": [],
   "source": [
    "#df['Item_Visibility'] = np.log(df['Item_Visibility'])"
   ]
  },
  {
   "cell_type": "code",
   "execution_count": 40,
   "id": "c349c1d0",
   "metadata": {},
   "outputs": [],
   "source": [
    "#sns.distplot(df['Item_Visibility'])"
   ]
  },
  {
   "cell_type": "code",
   "execution_count": 41,
   "id": "817360aa",
   "metadata": {},
   "outputs": [
    {
     "data": {
      "text/plain": [
       "<AxesSubplot:xlabel='Item_MRP', ylabel='Density'>"
      ]
     },
     "execution_count": 41,
     "metadata": {},
     "output_type": "execute_result"
    },
    {
     "data": {
      "image/png": "[encoded data removed]",
      "text/plain": [
       "<Figure size 576x432 with 1 Axes>"
      ]
     },
     "metadata": {
      "needs_background": "light"
     },
     "output_type": "display_data"
    }
   ],
   "source": [
    "plt.figure(figsize=(8,6))\n",
    "sns.distplot(df['Item_MRP'], bins=20)"
   ]
  },
  {
   "cell_type": "code",
   "execution_count": 42,
   "id": "46e8470b",
   "metadata": {},
   "outputs": [
    {
     "data": {
      "text/plain": [
       "<AxesSubplot:xlabel='Item_Outlet_Sales', ylabel='Density'>"
      ]
     },
     "execution_count": 42,
     "metadata": {},
     "output_type": "execute_result"
    },
    {
     "data": {
      "image/png": "[encoded data removed]",
      "text/plain": [
       "<Figure size 576x432 with 1 Axes>"
      ]
     },
     "metadata": {
      "needs_background": "light"
     },
     "output_type": "display_data"
    }
   ],
   "source": [
    "plt.figure(figsize=(8,6))\n",
    "sns.distplot(df['Item_Outlet_Sales'], bins=20)"
   ]
  },
  {
   "cell_type": "markdown",
   "id": "d56a00e2",
   "metadata": {},
   "source": [
    "Here item outlet sales is right skewed so we have to make it normally distributed so applying log transformation."
   ]
  },
  {
   "cell_type": "code",
   "execution_count": 43,
   "id": "0f8f60dc",
   "metadata": {},
   "outputs": [],
   "source": [
    "df['Item_Outlet_Sales'] = np.log(1+df['Item_Outlet_Sales'])"
   ]
  },
  {
   "cell_type": "code",
   "execution_count": 44,
   "id": "818c5e12",
   "metadata": {},
   "outputs": [
    {
     "data": {
      "text/plain": [
       "<AxesSubplot:xlabel='Item_Outlet_Sales', ylabel='Density'>"
      ]
     },
     "execution_count": 44,
     "metadata": {},
     "output_type": "execute_result"
    },
    {
     "data": {
      "image/png": "[encoded data removed]",
      "text/plain": [
       "<Figure size 576x432 with 1 Axes>"
      ]
     },
     "metadata": {
      "needs_background": "light"
     },
     "output_type": "display_data"
    }
   ],
   "source": [
    "plt.figure(figsize=(8,6))\n",
    "sns.distplot(df['Item_Outlet_Sales'], bins=20)"
   ]
  },
  {
   "cell_type": "markdown",
   "id": "24fb8abb",
   "metadata": {},
   "source": [
    "### Visualizing Categorical Feature"
   ]
  },
  {
   "cell_type": "code",
   "execution_count": 45,
   "id": "aae304a8",
   "metadata": {},
   "outputs": [
    {
     "data": {
      "image/png": "[encoded data removed]",
      "text/plain": [
       "<Figure size 576x432 with 1 Axes>"
      ]
     },
     "metadata": {
      "needs_background": "light"
     },
     "output_type": "display_data"
    }
   ],
   "source": [
    "plt.figure(figsize=(8,6))\n",
    "C_item_type = sns.countplot(df['Item_Type'])\n",
    "C_item_type.set_xticklabels(C_item_type.get_xticklabels(), rotation=80)\n",
    "None\n"
   ]
  },
  {
   "cell_type": "code",
   "execution_count": 46,
   "id": "f947dd08",
   "metadata": {},
   "outputs": [
    {
     "data": {
      "image/png": "[encoded data removed]",
      "text/plain": [
       "<Figure size 576x432 with 1 Axes>"
      ]
     },
     "metadata": {
      "needs_background": "light"
     },
     "output_type": "display_data"
    }
   ],
   "source": [
    "plt.figure(figsize=(8,6))\n",
    "C_Outlet_Type = sns.countplot(df['Outlet_Type'])\n",
    "C_Outlet_Type .set_xticklabels(C_Outlet_Type .get_xticklabels(), rotation=45)\n",
    "None"
   ]
  },
  {
   "cell_type": "code",
   "execution_count": 47,
   "id": "9f8bd264",
   "metadata": {},
   "outputs": [
    {
     "data": {
      "image/png": "[encoded data removed]",
      "text/plain": [
       "<Figure size 576x432 with 1 Axes>"
      ]
     },
     "metadata": {
      "needs_background": "light"
     },
     "output_type": "display_data"
    }
   ],
   "source": [
    "plt.figure(figsize=(8,6))\n",
    "C_Outlet_Size = sns.countplot(df['Outlet_Size'])\n",
    "C_Outlet_Size.set_xticklabels(C_Outlet_Size.get_xticklabels(), rotation=45)\n",
    "None"
   ]
  },
  {
   "cell_type": "code",
   "execution_count": 48,
   "id": "83ecde7a",
   "metadata": {},
   "outputs": [
    {
     "data": {
      "image/png": "[encoded data removed]",
      "text/plain": [
       "<Figure size 576x432 with 1 Axes>"
      ]
     },
     "metadata": {
      "needs_background": "light"
     },
     "output_type": "display_data"
    }
   ],
   "source": [
    "plt.figure(figsize=(8,6))\n",
    "C_Item_Fat_Content = sns.countplot(df['Item_Fat_Content'])\n",
    "C_Item_Fat_Content .set_xticklabels(C_Item_Fat_Content .get_xticklabels(), rotation=45)\n",
    "None"
   ]
  },
  {
   "cell_type": "markdown",
   "id": "f80f3a05",
   "metadata": {},
   "source": [
    "Most of the item are in our data set are low fat content"
   ]
  },
  {
   "cell_type": "code",
   "execution_count": 49,
   "id": "2fb1e78c",
   "metadata": {},
   "outputs": [
    {
     "data": {
      "image/png": "[encoded data removed]",
      "text/plain": [
       "<Figure size 576x432 with 1 Axes>"
      ]
     },
     "metadata": {
      "needs_background": "light"
     },
     "output_type": "display_data"
    }
   ],
   "source": [
    "plt.figure(figsize=(8,6))\n",
    "C_Outlet_Location_Type = sns.countplot(df['Outlet_Location_Type'])\n",
    "C_Outlet_Location_Type.set_xticklabels(C_Outlet_Location_Type.get_xticklabels(), rotation=45)\n",
    "None"
   ]
  },
  {
   "cell_type": "markdown",
   "id": "deab84b4",
   "metadata": {},
   "source": [
    "### Bivariate analysis"
   ]
  },
  {
   "cell_type": "code",
   "execution_count": 50,
   "id": "b7226e63",
   "metadata": {},
   "outputs": [
    {
     "data": {
      "image/png": "[encoded data removed]",
      "text/plain": [
       "<Figure size 576x432 with 1 Axes>"
      ]
     },
     "metadata": {
      "needs_background": "light"
     },
     "output_type": "display_data"
    }
   ],
   "source": [
    "#average sales outlet_type wise\n",
    "plt.figure(figsize=(8,6))\n",
    "C_OutletType = sns.barplot(x= 'Outlet_Location_Type', y = np.exp(df['Item_Outlet_Sales']) , data=df)\n",
    "C_OutletType.set_xticklabels(C_OutletType.get_xticklabels(), rotation=45)\n",
    "plt.title('Outlet_Location_Type vs Items Sales',fontsize=16)\n",
    "None"
   ]
  },
  {
   "cell_type": "code",
   "execution_count": 51,
   "id": "f2444314",
   "metadata": {},
   "outputs": [
    {
     "data": {
      "image/png": "[encoded data removed]",
      "text/plain": [
       "<Figure size 576x432 with 1 Axes>"
      ]
     },
     "metadata": {
      "needs_background": "light"
     },
     "output_type": "display_data"
    }
   ],
   "source": [
    "plt.figure(figsize=(8,6))\n",
    "C_OutletType = sns.barplot(x= 'Outlet_Type', y = np.exp(df['Item_Outlet_Sales']) , data=df)\n",
    "C_OutletType.set_xticklabels(C_OutletType.get_xticklabels(), rotation=45)\n",
    "plt.title('Outlet Type vs Items Sales',fontsize=16)\n",
    "None"
   ]
  },
  {
   "cell_type": "code",
   "execution_count": 52,
   "id": "cc83210c",
   "metadata": {},
   "outputs": [
    {
     "data": {
      "image/png": "[encoded data removed]",
      "text/plain": [
       "<Figure size 576x432 with 1 Axes>"
      ]
     },
     "metadata": {
      "needs_background": "light"
     },
     "output_type": "display_data"
    }
   ],
   "source": [
    "plt.figure(figsize=(8,6))\n",
    "C_OutletType = sns.barplot(x= 'Outlet_Size', y = np.exp(df['Item_Outlet_Sales']) , data=df)\n",
    "C_OutletType.set_xticklabels(C_OutletType.get_xticklabels(), rotation=45)\n",
    "plt.title('Outlet_Size vs Items Sales',fontsize=16)\n",
    "None"
   ]
  },
  {
   "cell_type": "code",
   "execution_count": 53,
   "id": "b9735d30",
   "metadata": {},
   "outputs": [
    {
     "data": {
      "image/png": "[encoded data removed]",
      "text/plain": [
       "<Figure size 720x576 with 1 Axes>"
      ]
     },
     "metadata": {
      "needs_background": "light"
     },
     "output_type": "display_data"
    }
   ],
   "source": [
    "plt.figure(figsize=(10,8))\n",
    "C_OutletType = sns.barplot(x= 'Item_Type', y = np.exp(df['Item_Outlet_Sales']) , data=df)\n",
    "C_OutletType.set_xticklabels(C_OutletType.get_xticklabels(), rotation=90)\n",
    "plt.title('Item_Type vs Items Sales',fontsize=16)\n",
    "None"
   ]
  },
  {
   "cell_type": "code",
   "execution_count": 54,
   "id": "a24ffda7",
   "metadata": {},
   "outputs": [
    {
     "data": {
      "text/html": [
       "<div>\n",
       "<style scoped>\n",
       "    .dataframe tbody tr th:only-of-type {\n",
       "        vertical-align: middle;\n",
       "    }\n",
       "\n",
       "    .dataframe tbody tr th {\n",
       "        vertical-align: top;\n",
       "    }\n",
       "\n",
       "    .dataframe thead th {\n",
       "        text-align: right;\n",
       "    }\n",
       "</style>\n",
       "<table border=\"1\" class=\"dataframe\">\n",
       "  <thead>\n",
       "    <tr style=\"text-align: right;\">\n",
       "      <th></th>\n",
       "      <th>Item_Weight</th>\n",
       "      <th>Item_Visibility</th>\n",
       "      <th>Item_MRP</th>\n",
       "      <th>Outlet_Establishment_Year</th>\n",
       "      <th>Item_Outlet_Sales</th>\n",
       "      <th>MRP_per_unit_weight</th>\n",
       "      <th>Outlet_Years</th>\n",
       "    </tr>\n",
       "  </thead>\n",
       "  <tbody>\n",
       "    <tr>\n",
       "      <th>Item_Weight</th>\n",
       "      <td>1.000000</td>\n",
       "      <td>-0.017450</td>\n",
       "      <td>0.024756</td>\n",
       "      <td>-0.008301</td>\n",
       "      <td>0.008059</td>\n",
       "      <td>-0.585147</td>\n",
       "      <td>0.008301</td>\n",
       "    </tr>\n",
       "    <tr>\n",
       "      <th>Item_Visibility</th>\n",
       "      <td>-0.017450</td>\n",
       "      <td>1.000000</td>\n",
       "      <td>-0.005259</td>\n",
       "      <td>-0.078355</td>\n",
       "      <td>-0.202466</td>\n",
       "      <td>-0.005141</td>\n",
       "      <td>0.078355</td>\n",
       "    </tr>\n",
       "    <tr>\n",
       "      <th>Item_MRP</th>\n",
       "      <td>0.024756</td>\n",
       "      <td>-0.005259</td>\n",
       "      <td>1.000000</td>\n",
       "      <td>0.005020</td>\n",
       "      <td>0.509886</td>\n",
       "      <td>0.707961</td>\n",
       "      <td>-0.005020</td>\n",
       "    </tr>\n",
       "    <tr>\n",
       "      <th>Outlet_Establishment_Year</th>\n",
       "      <td>-0.008301</td>\n",
       "      <td>-0.078355</td>\n",
       "      <td>0.005020</td>\n",
       "      <td>1.000000</td>\n",
       "      <td>0.077032</td>\n",
       "      <td>0.071195</td>\n",
       "      <td>-1.000000</td>\n",
       "    </tr>\n",
       "    <tr>\n",
       "      <th>Item_Outlet_Sales</th>\n",
       "      <td>0.008059</td>\n",
       "      <td>-0.202466</td>\n",
       "      <td>0.509886</td>\n",
       "      <td>0.077032</td>\n",
       "      <td>1.000000</td>\n",
       "      <td>0.366027</td>\n",
       "      <td>-0.077032</td>\n",
       "    </tr>\n",
       "    <tr>\n",
       "      <th>MRP_per_unit_weight</th>\n",
       "      <td>-0.585147</td>\n",
       "      <td>-0.005141</td>\n",
       "      <td>0.707961</td>\n",
       "      <td>0.071195</td>\n",
       "      <td>0.366027</td>\n",
       "      <td>1.000000</td>\n",
       "      <td>-0.071195</td>\n",
       "    </tr>\n",
       "    <tr>\n",
       "      <th>Outlet_Years</th>\n",
       "      <td>0.008301</td>\n",
       "      <td>0.078355</td>\n",
       "      <td>-0.005020</td>\n",
       "      <td>-1.000000</td>\n",
       "      <td>-0.077032</td>\n",
       "      <td>-0.071195</td>\n",
       "      <td>1.000000</td>\n",
       "    </tr>\n",
       "  </tbody>\n",
       "</table>\n",
       "</div>"
      ],
      "text/plain": [
       "                           Item_Weight  Item_Visibility  Item_MRP  \\\n",
       "Item_Weight                   1.000000        -0.017450  0.024756   \n",
       "Item_Visibility              -0.017450         1.000000 -0.005259   \n",
       "Item_MRP                      0.024756        -0.005259  1.000000   \n",
       "Outlet_Establishment_Year    -0.008301        -0.078355  0.005020   \n",
       "Item_Outlet_Sales             0.008059        -0.202466  0.509886   \n",
       "MRP_per_unit_weight          -0.585147        -0.005141  0.707961   \n",
       "Outlet_Years                  0.008301         0.078355 -0.005020   \n",
       "\n",
       "                           Outlet_Establishment_Year  Item_Outlet_Sales  \\\n",
       "Item_Weight                                -0.008301           0.008059   \n",
       "Item_Visibility                            -0.078355          -0.202466   \n",
       "Item_MRP                                    0.005020           0.509886   \n",
       "Outlet_Establishment_Year                   1.000000           0.077032   \n",
       "Item_Outlet_Sales                           0.077032           1.000000   \n",
       "MRP_per_unit_weight                         0.071195           0.366027   \n",
       "Outlet_Years                               -1.000000          -0.077032   \n",
       "\n",
       "                           MRP_per_unit_weight  Outlet_Years  \n",
       "Item_Weight                          -0.585147      0.008301  \n",
       "Item_Visibility                      -0.005141      0.078355  \n",
       "Item_MRP                              0.707961     -0.005020  \n",
       "Outlet_Establishment_Year             0.071195     -1.000000  \n",
       "Item_Outlet_Sales                     0.366027     -0.077032  \n",
       "MRP_per_unit_weight                   1.000000     -0.071195  \n",
       "Outlet_Years                         -0.071195      1.000000  "
      ]
     },
     "execution_count": 54,
     "metadata": {},
     "output_type": "execute_result"
    }
   ],
   "source": [
    "df.corr()"
   ]
  },
  {
   "cell_type": "code",
   "execution_count": 55,
   "id": "126f89e9",
   "metadata": {
    "scrolled": false
   },
   "outputs": [
    {
     "data": {
      "text/plain": [
       "<AxesSubplot:>"
      ]
     },
     "execution_count": 55,
     "metadata": {},
     "output_type": "execute_result"
    },
    {
     "data": {
      "image/png": "[encoded data removed]",
      "text/plain": [
       "<Figure size 576x432 with 2 Axes>"
      ]
     },
     "metadata": {
      "needs_background": "light"
     },
     "output_type": "display_data"
    }
   ],
   "source": [
    "plt.figure(figsize=(8, 6))\n",
    "sns.heatmap(df.corr(),annot=True)"
   ]
  },
  {
   "cell_type": "markdown",
   "id": "4d84a5e2",
   "metadata": {},
   "source": [
    "There is no significat correlation observed except Item_MRP vs Item_Outlet_Sales, the MRP of items increases the sales is also increas"
   ]
  },
  {
   "cell_type": "markdown",
   "id": "34fb7936",
   "metadata": {},
   "source": [
    "#### We will look into outlet total sale by different feature wise using pivot table"
   ]
  },
  {
   "cell_type": "code",
   "execution_count": 56,
   "id": "3acf0eed",
   "metadata": {
    "scrolled": true
   },
   "outputs": [
    {
     "data": {
      "text/html": [
       "<div>\n",
       "<style scoped>\n",
       "    .dataframe tbody tr th:only-of-type {\n",
       "        vertical-align: middle;\n",
       "    }\n",
       "\n",
       "    .dataframe tbody tr th {\n",
       "        vertical-align: top;\n",
       "    }\n",
       "\n",
       "    .dataframe thead th {\n",
       "        text-align: right;\n",
       "    }\n",
       "</style>\n",
       "<table border=\"1\" class=\"dataframe\">\n",
       "  <thead>\n",
       "    <tr style=\"text-align: right;\">\n",
       "      <th></th>\n",
       "      <th></th>\n",
       "      <th></th>\n",
       "      <th>Item_Outlet_Sales</th>\n",
       "    </tr>\n",
       "    <tr>\n",
       "      <th>Outlet_Location_Type</th>\n",
       "      <th>Outlet_Type</th>\n",
       "      <th>Outlet_Size</th>\n",
       "      <th></th>\n",
       "    </tr>\n",
       "  </thead>\n",
       "  <tbody>\n",
       "    <tr>\n",
       "      <th rowspan=\"3\" valign=\"top\">Tier 1</th>\n",
       "      <th>Grocery Store</th>\n",
       "      <th>Small</th>\n",
       "      <td>2936.90</td>\n",
       "    </tr>\n",
       "    <tr>\n",
       "      <th rowspan=\"2\" valign=\"top\">Supermarket Type1</th>\n",
       "      <th>Medium</th>\n",
       "      <td>7003.43</td>\n",
       "    </tr>\n",
       "    <tr>\n",
       "      <th>Small</th>\n",
       "      <td>6975.20</td>\n",
       "    </tr>\n",
       "    <tr>\n",
       "      <th>Tier 2</th>\n",
       "      <th>Supermarket Type1</th>\n",
       "      <th>Small</th>\n",
       "      <td>20933.00</td>\n",
       "    </tr>\n",
       "    <tr>\n",
       "      <th rowspan=\"4\" valign=\"top\">Tier 3</th>\n",
       "      <th>Grocery Store</th>\n",
       "      <th>Small</th>\n",
       "      <td>3075.08</td>\n",
       "    </tr>\n",
       "    <tr>\n",
       "      <th>Supermarket Type1</th>\n",
       "      <th>High</th>\n",
       "      <td>6967.61</td>\n",
       "    </tr>\n",
       "    <tr>\n",
       "      <th>Supermarket Type2</th>\n",
       "      <th>Medium</th>\n",
       "      <td>6804.20</td>\n",
       "    </tr>\n",
       "    <tr>\n",
       "      <th>Supermarket Type3</th>\n",
       "      <th>Medium</th>\n",
       "      <td>7504.28</td>\n",
       "    </tr>\n",
       "  </tbody>\n",
       "</table>\n",
       "</div>"
      ],
      "text/plain": [
       "                                                    Item_Outlet_Sales\n",
       "Outlet_Location_Type Outlet_Type       Outlet_Size                   \n",
       "Tier 1               Grocery Store     Small                  2936.90\n",
       "                     Supermarket Type1 Medium                 7003.43\n",
       "                                       Small                  6975.20\n",
       "Tier 2               Supermarket Type1 Small                 20933.00\n",
       "Tier 3               Grocery Store     Small                  3075.08\n",
       "                     Supermarket Type1 High                   6967.61\n",
       "                     Supermarket Type2 Medium                 6804.20\n",
       "                     Supermarket Type3 Medium                 7504.28"
      ]
     },
     "execution_count": 56,
     "metadata": {},
     "output_type": "execute_result"
    }
   ],
   "source": [
    "import pandas as pd\n",
    "pd.options.display.float_format = '{:.2f}'.format\n",
    "df.pivot_table(values= 'Item_Outlet_Sales', index = ['Outlet_Location_Type','Outlet_Type','Outlet_Size'], aggfunc = np.sum)"
   ]
  },
  {
   "cell_type": "code",
   "execution_count": 57,
   "id": "67ab3658",
   "metadata": {},
   "outputs": [
    {
     "data": {
      "text/html": [
       "<div>\n",
       "<style scoped>\n",
       "    .dataframe tbody tr th:only-of-type {\n",
       "        vertical-align: middle;\n",
       "    }\n",
       "\n",
       "    .dataframe tbody tr th {\n",
       "        vertical-align: top;\n",
       "    }\n",
       "\n",
       "    .dataframe thead th {\n",
       "        text-align: right;\n",
       "    }\n",
       "</style>\n",
       "<table border=\"1\" class=\"dataframe\">\n",
       "  <thead>\n",
       "    <tr style=\"text-align: right;\">\n",
       "      <th></th>\n",
       "      <th></th>\n",
       "      <th></th>\n",
       "      <th>Item_Outlet_Sales</th>\n",
       "    </tr>\n",
       "    <tr>\n",
       "      <th>Item_Fat_Content</th>\n",
       "      <th>New_Item_Type</th>\n",
       "      <th>Item_Type</th>\n",
       "      <th></th>\n",
       "    </tr>\n",
       "  </thead>\n",
       "  <tbody>\n",
       "    <tr>\n",
       "      <th rowspan=\"14\" valign=\"top\">Low Fat</th>\n",
       "      <th rowspan=\"3\" valign=\"top\">Drinking</th>\n",
       "      <th>Dairy</th>\n",
       "      <td>983.18</td>\n",
       "    </tr>\n",
       "    <tr>\n",
       "      <th>Hard Drinks</th>\n",
       "      <td>1558.10</td>\n",
       "    </tr>\n",
       "    <tr>\n",
       "      <th>Soft Drinks</th>\n",
       "      <td>2709.61</td>\n",
       "    </tr>\n",
       "    <tr>\n",
       "      <th rowspan=\"11\" valign=\"top\">Food</th>\n",
       "      <th>Baking Goods</th>\n",
       "      <td>2334.00</td>\n",
       "    </tr>\n",
       "    <tr>\n",
       "      <th>Breads</th>\n",
       "      <td>1028.20</td>\n",
       "    </tr>\n",
       "    <tr>\n",
       "      <th>Breakfast</th>\n",
       "      <td>299.90</td>\n",
       "    </tr>\n",
       "    <tr>\n",
       "      <th>Canned</th>\n",
       "      <td>2510.44</td>\n",
       "    </tr>\n",
       "    <tr>\n",
       "      <th>Dairy</th>\n",
       "      <td>2035.63</td>\n",
       "    </tr>\n",
       "    <tr>\n",
       "      <th>Frozen Foods</th>\n",
       "      <td>3247.79</td>\n",
       "    </tr>\n",
       "    <tr>\n",
       "      <th>Fruits and Vegetables</th>\n",
       "      <td>4593.35</td>\n",
       "    </tr>\n",
       "    <tr>\n",
       "      <th>Meat</th>\n",
       "      <td>1223.32</td>\n",
       "    </tr>\n",
       "    <tr>\n",
       "      <th>Seafood</th>\n",
       "      <td>261.68</td>\n",
       "    </tr>\n",
       "    <tr>\n",
       "      <th>Snack Foods</th>\n",
       "      <td>5159.89</td>\n",
       "    </tr>\n",
       "    <tr>\n",
       "      <th>Starchy Foods</th>\n",
       "      <td>613.23</td>\n",
       "    </tr>\n",
       "    <tr>\n",
       "      <th rowspan=\"3\" valign=\"top\">Non-Edible</th>\n",
       "      <th rowspan=\"3\" valign=\"top\">Non-Consumable</th>\n",
       "      <th>Health and Hygiene</th>\n",
       "      <td>3760.41</td>\n",
       "    </tr>\n",
       "    <tr>\n",
       "      <th>Household</th>\n",
       "      <td>6682.00</td>\n",
       "    </tr>\n",
       "    <tr>\n",
       "      <th>Others</th>\n",
       "      <td>1210.68</td>\n",
       "    </tr>\n",
       "    <tr>\n",
       "      <th rowspan=\"12\" valign=\"top\">Regular</th>\n",
       "      <th>Drinking</th>\n",
       "      <th>Soft Drinks</th>\n",
       "      <td>501.32</td>\n",
       "    </tr>\n",
       "    <tr>\n",
       "      <th rowspan=\"11\" valign=\"top\">Food</th>\n",
       "      <th>Baking Goods</th>\n",
       "      <td>2320.24</td>\n",
       "    </tr>\n",
       "    <tr>\n",
       "      <th>Breads</th>\n",
       "      <td>813.76</td>\n",
       "    </tr>\n",
       "    <tr>\n",
       "      <th>Breakfast</th>\n",
       "      <td>487.50</td>\n",
       "    </tr>\n",
       "    <tr>\n",
       "      <th>Canned</th>\n",
       "      <td>2263.39</td>\n",
       "    </tr>\n",
       "    <tr>\n",
       "      <th>Dairy</th>\n",
       "      <td>1948.86</td>\n",
       "    </tr>\n",
       "    <tr>\n",
       "      <th>Frozen Foods</th>\n",
       "      <td>2957.69</td>\n",
       "    </tr>\n",
       "    <tr>\n",
       "      <th>Fruits and Vegetables</th>\n",
       "      <td>4457.52</td>\n",
       "    </tr>\n",
       "    <tr>\n",
       "      <th>Meat</th>\n",
       "      <td>1873.06</td>\n",
       "    </tr>\n",
       "    <tr>\n",
       "      <th>Seafood</th>\n",
       "      <td>203.46</td>\n",
       "    </tr>\n",
       "    <tr>\n",
       "      <th>Snack Foods</th>\n",
       "      <td>3681.06</td>\n",
       "    </tr>\n",
       "    <tr>\n",
       "      <th>Starchy Foods</th>\n",
       "      <td>480.42</td>\n",
       "    </tr>\n",
       "  </tbody>\n",
       "</table>\n",
       "</div>"
      ],
      "text/plain": [
       "                                                       Item_Outlet_Sales\n",
       "Item_Fat_Content New_Item_Type  Item_Type                               \n",
       "Low Fat          Drinking       Dairy                             983.18\n",
       "                                Hard Drinks                      1558.10\n",
       "                                Soft Drinks                      2709.61\n",
       "                 Food           Baking Goods                     2334.00\n",
       "                                Breads                           1028.20\n",
       "                                Breakfast                         299.90\n",
       "                                Canned                           2510.44\n",
       "                                Dairy                            2035.63\n",
       "                                Frozen Foods                     3247.79\n",
       "                                Fruits and Vegetables            4593.35\n",
       "                                Meat                             1223.32\n",
       "                                Seafood                           261.68\n",
       "                                Snack Foods                      5159.89\n",
       "                                Starchy Foods                     613.23\n",
       "Non-Edible       Non-Consumable Health and Hygiene               3760.41\n",
       "                                Household                        6682.00\n",
       "                                Others                           1210.68\n",
       "Regular          Drinking       Soft Drinks                       501.32\n",
       "                 Food           Baking Goods                     2320.24\n",
       "                                Breads                            813.76\n",
       "                                Breakfast                         487.50\n",
       "                                Canned                           2263.39\n",
       "                                Dairy                            1948.86\n",
       "                                Frozen Foods                     2957.69\n",
       "                                Fruits and Vegetables            4457.52\n",
       "                                Meat                             1873.06\n",
       "                                Seafood                           203.46\n",
       "                                Snack Foods                      3681.06\n",
       "                                Starchy Foods                     480.42"
      ]
     },
     "execution_count": 57,
     "metadata": {},
     "output_type": "execute_result"
    }
   ],
   "source": [
    "df.pivot_table(values = 'Item_Outlet_Sales' , index = ['Item_Fat_Content','New_Item_Type','Item_Type'], aggfunc = np.sum )"
   ]
  },
  {
   "cell_type": "code",
   "execution_count": 58,
   "id": "cecba8d9",
   "metadata": {},
   "outputs": [
    {
     "data": {
      "text/html": [
       "<div>\n",
       "<style scoped>\n",
       "    .dataframe tbody tr th:only-of-type {\n",
       "        vertical-align: middle;\n",
       "    }\n",
       "\n",
       "    .dataframe tbody tr th {\n",
       "        vertical-align: top;\n",
       "    }\n",
       "\n",
       "    .dataframe thead th {\n",
       "        text-align: right;\n",
       "    }\n",
       "</style>\n",
       "<table border=\"1\" class=\"dataframe\">\n",
       "  <thead>\n",
       "    <tr style=\"text-align: right;\">\n",
       "      <th></th>\n",
       "      <th></th>\n",
       "      <th>Item_Outlet_Sales</th>\n",
       "    </tr>\n",
       "    <tr>\n",
       "      <th>Outlet_Size</th>\n",
       "      <th>Outlet_Identifier</th>\n",
       "      <th></th>\n",
       "    </tr>\n",
       "  </thead>\n",
       "  <tbody>\n",
       "    <tr>\n",
       "      <th>High</th>\n",
       "      <th>OUT013</th>\n",
       "      <td>6967.61</td>\n",
       "    </tr>\n",
       "    <tr>\n",
       "      <th rowspan=\"3\" valign=\"top\">Medium</th>\n",
       "      <th>OUT018</th>\n",
       "      <td>6804.20</td>\n",
       "    </tr>\n",
       "    <tr>\n",
       "      <th>OUT027</th>\n",
       "      <td>7504.28</td>\n",
       "    </tr>\n",
       "    <tr>\n",
       "      <th>OUT049</th>\n",
       "      <td>7003.43</td>\n",
       "    </tr>\n",
       "    <tr>\n",
       "      <th rowspan=\"6\" valign=\"top\">Small</th>\n",
       "      <th>OUT010</th>\n",
       "      <td>3075.08</td>\n",
       "    </tr>\n",
       "    <tr>\n",
       "      <th>OUT017</th>\n",
       "      <td>6961.77</td>\n",
       "    </tr>\n",
       "    <tr>\n",
       "      <th>OUT019</th>\n",
       "      <td>2936.90</td>\n",
       "    </tr>\n",
       "    <tr>\n",
       "      <th>OUT035</th>\n",
       "      <td>7042.61</td>\n",
       "    </tr>\n",
       "    <tr>\n",
       "      <th>OUT045</th>\n",
       "      <td>6928.61</td>\n",
       "    </tr>\n",
       "    <tr>\n",
       "      <th>OUT046</th>\n",
       "      <td>6975.20</td>\n",
       "    </tr>\n",
       "  </tbody>\n",
       "</table>\n",
       "</div>"
      ],
      "text/plain": [
       "                               Item_Outlet_Sales\n",
       "Outlet_Size Outlet_Identifier                   \n",
       "High        OUT013                       6967.61\n",
       "Medium      OUT018                       6804.20\n",
       "            OUT027                       7504.28\n",
       "            OUT049                       7003.43\n",
       "Small       OUT010                       3075.08\n",
       "            OUT017                       6961.77\n",
       "            OUT019                       2936.90\n",
       "            OUT035                       7042.61\n",
       "            OUT045                       6928.61\n",
       "            OUT046                       6975.20"
      ]
     },
     "execution_count": 58,
     "metadata": {},
     "output_type": "execute_result"
    }
   ],
   "source": [
    "df.pivot_table(values=['Item_Outlet_Sales'],index=['Outlet_Size','Outlet_Identifier'],aggfunc=np.sum)"
   ]
  },
  {
   "cell_type": "markdown",
   "id": "61e67f64",
   "metadata": {},
   "source": [
    "### Data Pre-Processing"
   ]
  },
  {
   "cell_type": "markdown",
   "id": "af794f48",
   "metadata": {},
   "source": [
    "#### Label Encoding"
   ]
  },
  {
   "cell_type": "code",
   "execution_count": 59,
   "id": "0f4c46fd",
   "metadata": {},
   "outputs": [],
   "source": [
    "# Label encoding for variables which have internal dependency.\n",
    "from sklearn.preprocessing import LabelEncoder\n",
    "le=LabelEncoder()"
   ]
  },
  {
   "cell_type": "code",
   "execution_count": 60,
   "id": "3952a93c",
   "metadata": {},
   "outputs": [],
   "source": [
    "df['Outlet'] = le.fit_transform(df['Outlet_Identifier'])"
   ]
  },
  {
   "cell_type": "markdown",
   "id": "4aa91b91",
   "metadata": {},
   "source": [
    "#### One hot encoding"
   ]
  },
  {
   "cell_type": "code",
   "execution_count": 61,
   "id": "9932cbec",
   "metadata": {},
   "outputs": [],
   "source": [
    "#one hot encoding for variables which have no internal dependency\n",
    "df = pd.get_dummies(df,columns=['Outlet_Type','Item_Fat_Content','New_Item_Type','Outlet_Size','Outlet_Location_Type'])"
   ]
  },
  {
   "cell_type": "code",
   "execution_count": 62,
   "id": "c1c400bd",
   "metadata": {},
   "outputs": [
    {
     "data": {
      "text/html": [
       "<div>\n",
       "<style scoped>\n",
       "    .dataframe tbody tr th:only-of-type {\n",
       "        vertical-align: middle;\n",
       "    }\n",
       "\n",
       "    .dataframe tbody tr th {\n",
       "        vertical-align: top;\n",
       "    }\n",
       "\n",
       "    .dataframe thead th {\n",
       "        text-align: right;\n",
       "    }\n",
       "</style>\n",
       "<table border=\"1\" class=\"dataframe\">\n",
       "  <thead>\n",
       "    <tr style=\"text-align: right;\">\n",
       "      <th></th>\n",
       "      <th>Item_Identifier</th>\n",
       "      <th>Item_Weight</th>\n",
       "      <th>Item_Visibility</th>\n",
       "      <th>Item_Type</th>\n",
       "      <th>Item_MRP</th>\n",
       "      <th>Outlet_Identifier</th>\n",
       "      <th>Outlet_Establishment_Year</th>\n",
       "      <th>Item_Outlet_Sales</th>\n",
       "      <th>Shelf_life</th>\n",
       "      <th>MRP_per_unit_weight</th>\n",
       "      <th>...</th>\n",
       "      <th>Item_Fat_Content_Regular</th>\n",
       "      <th>New_Item_Type_Drinking</th>\n",
       "      <th>New_Item_Type_Food</th>\n",
       "      <th>New_Item_Type_Non-Consumable</th>\n",
       "      <th>Outlet_Size_High</th>\n",
       "      <th>Outlet_Size_Medium</th>\n",
       "      <th>Outlet_Size_Small</th>\n",
       "      <th>Outlet_Location_Type_Tier 1</th>\n",
       "      <th>Outlet_Location_Type_Tier 2</th>\n",
       "      <th>Outlet_Location_Type_Tier 3</th>\n",
       "    </tr>\n",
       "  </thead>\n",
       "  <tbody>\n",
       "    <tr>\n",
       "      <th>0</th>\n",
       "      <td>FDA15</td>\n",
       "      <td>9.30</td>\n",
       "      <td>0.02</td>\n",
       "      <td>Dairy</td>\n",
       "      <td>249.81</td>\n",
       "      <td>OUT049</td>\n",
       "      <td>1999</td>\n",
       "      <td>8.23</td>\n",
       "      <td>perishable</td>\n",
       "      <td>26.86</td>\n",
       "      <td>...</td>\n",
       "      <td>0</td>\n",
       "      <td>0</td>\n",
       "      <td>1</td>\n",
       "      <td>0</td>\n",
       "      <td>0</td>\n",
       "      <td>1</td>\n",
       "      <td>0</td>\n",
       "      <td>1</td>\n",
       "      <td>0</td>\n",
       "      <td>0</td>\n",
       "    </tr>\n",
       "    <tr>\n",
       "      <th>1</th>\n",
       "      <td>DRC01</td>\n",
       "      <td>5.92</td>\n",
       "      <td>0.02</td>\n",
       "      <td>Soft Drinks</td>\n",
       "      <td>48.27</td>\n",
       "      <td>OUT018</td>\n",
       "      <td>2009</td>\n",
       "      <td>6.10</td>\n",
       "      <td>non_perishable</td>\n",
       "      <td>8.15</td>\n",
       "      <td>...</td>\n",
       "      <td>1</td>\n",
       "      <td>1</td>\n",
       "      <td>0</td>\n",
       "      <td>0</td>\n",
       "      <td>0</td>\n",
       "      <td>1</td>\n",
       "      <td>0</td>\n",
       "      <td>0</td>\n",
       "      <td>0</td>\n",
       "      <td>1</td>\n",
       "    </tr>\n",
       "    <tr>\n",
       "      <th>2</th>\n",
       "      <td>FDN15</td>\n",
       "      <td>17.50</td>\n",
       "      <td>0.02</td>\n",
       "      <td>Meat</td>\n",
       "      <td>141.62</td>\n",
       "      <td>OUT049</td>\n",
       "      <td>1999</td>\n",
       "      <td>7.65</td>\n",
       "      <td>perishable</td>\n",
       "      <td>8.09</td>\n",
       "      <td>...</td>\n",
       "      <td>0</td>\n",
       "      <td>0</td>\n",
       "      <td>1</td>\n",
       "      <td>0</td>\n",
       "      <td>0</td>\n",
       "      <td>1</td>\n",
       "      <td>0</td>\n",
       "      <td>1</td>\n",
       "      <td>0</td>\n",
       "      <td>0</td>\n",
       "    </tr>\n",
       "    <tr>\n",
       "      <th>3</th>\n",
       "      <td>FDX07</td>\n",
       "      <td>19.20</td>\n",
       "      <td>0.07</td>\n",
       "      <td>Fruits and Vegetables</td>\n",
       "      <td>182.09</td>\n",
       "      <td>OUT010</td>\n",
       "      <td>1998</td>\n",
       "      <td>6.60</td>\n",
       "      <td>perishable</td>\n",
       "      <td>9.48</td>\n",
       "      <td>...</td>\n",
       "      <td>1</td>\n",
       "      <td>0</td>\n",
       "      <td>1</td>\n",
       "      <td>0</td>\n",
       "      <td>0</td>\n",
       "      <td>0</td>\n",
       "      <td>1</td>\n",
       "      <td>0</td>\n",
       "      <td>0</td>\n",
       "      <td>1</td>\n",
       "    </tr>\n",
       "    <tr>\n",
       "      <th>4</th>\n",
       "      <td>NCD19</td>\n",
       "      <td>8.93</td>\n",
       "      <td>0.07</td>\n",
       "      <td>Household</td>\n",
       "      <td>53.86</td>\n",
       "      <td>OUT013</td>\n",
       "      <td>1987</td>\n",
       "      <td>6.90</td>\n",
       "      <td>non_perishable</td>\n",
       "      <td>6.03</td>\n",
       "      <td>...</td>\n",
       "      <td>0</td>\n",
       "      <td>0</td>\n",
       "      <td>0</td>\n",
       "      <td>1</td>\n",
       "      <td>1</td>\n",
       "      <td>0</td>\n",
       "      <td>0</td>\n",
       "      <td>0</td>\n",
       "      <td>0</td>\n",
       "      <td>1</td>\n",
       "    </tr>\n",
       "  </tbody>\n",
       "</table>\n",
       "<p>5 rows × 28 columns</p>\n",
       "</div>"
      ],
      "text/plain": [
       "  Item_Identifier  Item_Weight  Item_Visibility              Item_Type  \\\n",
       "0           FDA15         9.30             0.02                  Dairy   \n",
       "1           DRC01         5.92             0.02            Soft Drinks   \n",
       "2           FDN15        17.50             0.02                   Meat   \n",
       "3           FDX07        19.20             0.07  Fruits and Vegetables   \n",
       "4           NCD19         8.93             0.07              Household   \n",
       "\n",
       "   Item_MRP Outlet_Identifier  Outlet_Establishment_Year  Item_Outlet_Sales  \\\n",
       "0    249.81            OUT049                       1999               8.23   \n",
       "1     48.27            OUT018                       2009               6.10   \n",
       "2    141.62            OUT049                       1999               7.65   \n",
       "3    182.09            OUT010                       1998               6.60   \n",
       "4     53.86            OUT013                       1987               6.90   \n",
       "\n",
       "       Shelf_life  MRP_per_unit_weight  ...  Item_Fat_Content_Regular  \\\n",
       "0      perishable                26.86  ...                         0   \n",
       "1  non_perishable                 8.15  ...                         1   \n",
       "2      perishable                 8.09  ...                         0   \n",
       "3      perishable                 9.48  ...                         1   \n",
       "4  non_perishable                 6.03  ...                         0   \n",
       "\n",
       "   New_Item_Type_Drinking  New_Item_Type_Food  New_Item_Type_Non-Consumable  \\\n",
       "0                       0                   1                             0   \n",
       "1                       1                   0                             0   \n",
       "2                       0                   1                             0   \n",
       "3                       0                   1                             0   \n",
       "4                       0                   0                             1   \n",
       "\n",
       "   Outlet_Size_High  Outlet_Size_Medium  Outlet_Size_Small  \\\n",
       "0                 0                   1                  0   \n",
       "1                 0                   1                  0   \n",
       "2                 0                   1                  0   \n",
       "3                 0                   0                  1   \n",
       "4                 1                   0                  0   \n",
       "\n",
       "   Outlet_Location_Type_Tier 1  Outlet_Location_Type_Tier 2  \\\n",
       "0                            1                            0   \n",
       "1                            0                            0   \n",
       "2                            1                            0   \n",
       "3                            0                            0   \n",
       "4                            0                            0   \n",
       "\n",
       "   Outlet_Location_Type_Tier 3  \n",
       "0                            0  \n",
       "1                            1  \n",
       "2                            0  \n",
       "3                            1  \n",
       "4                            1  \n",
       "\n",
       "[5 rows x 28 columns]"
      ]
     },
     "execution_count": 62,
     "metadata": {},
     "output_type": "execute_result"
    }
   ],
   "source": [
    "df.head()"
   ]
  },
  {
   "cell_type": "code",
   "execution_count": 63,
   "id": "c9777c7d",
   "metadata": {},
   "outputs": [
    {
     "data": {
      "text/plain": [
       "(8523, 28)"
      ]
     },
     "execution_count": 63,
     "metadata": {},
     "output_type": "execute_result"
    }
   ],
   "source": [
    "df.shape"
   ]
  },
  {
   "cell_type": "code",
   "execution_count": 64,
   "id": "6f24fbf1",
   "metadata": {},
   "outputs": [
    {
     "data": {
      "text/plain": [
       "Item_Identifier                   object\n",
       "Item_Weight                      float64\n",
       "Item_Visibility                  float64\n",
       "Item_Type                         object\n",
       "Item_MRP                         float64\n",
       "Outlet_Identifier                 object\n",
       "Outlet_Establishment_Year          int64\n",
       "Item_Outlet_Sales                float64\n",
       "Shelf_life                        object\n",
       "MRP_per_unit_weight              float64\n",
       "Outlet_Years                       int64\n",
       "Outlet                             int32\n",
       "Outlet_Type_Grocery Store          uint8\n",
       "Outlet_Type_Supermarket Type1      uint8\n",
       "Outlet_Type_Supermarket Type2      uint8\n",
       "Outlet_Type_Supermarket Type3      uint8\n",
       "Item_Fat_Content_Low Fat           uint8\n",
       "Item_Fat_Content_Non-Edible        uint8\n",
       "Item_Fat_Content_Regular           uint8\n",
       "New_Item_Type_Drinking             uint8\n",
       "New_Item_Type_Food                 uint8\n",
       "New_Item_Type_Non-Consumable       uint8\n",
       "Outlet_Size_High                   uint8\n",
       "Outlet_Size_Medium                 uint8\n",
       "Outlet_Size_Small                  uint8\n",
       "Outlet_Location_Type_Tier 1        uint8\n",
       "Outlet_Location_Type_Tier 2        uint8\n",
       "Outlet_Location_Type_Tier 3        uint8\n",
       "dtype: object"
      ]
     },
     "execution_count": 64,
     "metadata": {},
     "output_type": "execute_result"
    }
   ],
   "source": [
    "df.dtypes"
   ]
  },
  {
   "cell_type": "markdown",
   "id": "86350087",
   "metadata": {},
   "source": [
    "### Spliting data into Train & Test"
   ]
  },
  {
   "cell_type": "code",
   "execution_count": 65,
   "id": "76a7a5ec",
   "metadata": {},
   "outputs": [],
   "source": [
    "train = df.drop(['Item_Outlet_Sales','Item_Identifier','Item_Type','Outlet_Identifier','Shelf_life'],axis=1)\n",
    "test = df['Item_Outlet_Sales']"
   ]
  },
  {
   "cell_type": "code",
   "execution_count": 66,
   "id": "2bbb0b6d",
   "metadata": {},
   "outputs": [
    {
     "name": "stdout",
     "output_type": "stream",
     "text": [
      "(8523, 23)\n",
      "(8523,)\n"
     ]
    }
   ],
   "source": [
    "print(train.shape)\n",
    "print(test.shape)"
   ]
  },
  {
   "cell_type": "markdown",
   "id": "3928ea73",
   "metadata": {},
   "source": [
    "## Statistical Analysis"
   ]
  },
  {
   "cell_type": "code",
   "execution_count": 67,
   "id": "f455379a",
   "metadata": {},
   "outputs": [],
   "source": [
    "import statsmodels.api as sm"
   ]
  },
  {
   "cell_type": "code",
   "execution_count": 68,
   "id": "58d84a60",
   "metadata": {},
   "outputs": [
    {
     "name": "stdout",
     "output_type": "stream",
     "text": [
      "                            OLS Regression Results                            \n",
      "==============================================================================\n",
      "Dep. Variable:      Item_Outlet_Sales   R-squared:                       0.721\n",
      "Model:                            OLS   Adj. R-squared:                  0.720\n",
      "Method:                 Least Squares   F-statistic:                     1371.\n",
      "Date:                Mon, 20 Jun 2022   Prob (F-statistic):               0.00\n",
      "Time:                        23:25:04   Log-Likelihood:                -6788.7\n",
      "No. Observations:                8523   AIC:                         1.361e+04\n",
      "Df Residuals:                    8506   BIC:                         1.373e+04\n",
      "Df Model:                          16                                         \n",
      "Covariance Type:            nonrobust                                         \n",
      "=================================================================================================\n",
      "                                    coef    std err          t      P>|t|      [0.025      0.975]\n",
      "-------------------------------------------------------------------------------------------------\n",
      "const                         -3.694e-05   1.11e-05     -3.334      0.001   -5.87e-05   -1.52e-05\n",
      "Item_Weight                      -0.0028      0.003     -1.030      0.303      -0.008       0.003\n",
      "Item_Visibility                  -0.0481      0.126     -0.383      0.702      -0.294       0.198\n",
      "Item_MRP                          0.0085      0.000     40.093      0.000       0.008       0.009\n",
      "Outlet_Establishment_Year         0.0039      0.000     14.742      0.000       0.003       0.004\n",
      "MRP_per_unit_weight              -0.0019      0.002     -0.884      0.377      -0.006       0.002\n",
      "Outlet_Years                     -0.0783      0.023     -3.469      0.001      -0.123      -0.034\n",
      "Outlet                            0.0677      0.022      3.118      0.002       0.025       0.110\n",
      "Outlet_Type_Grocery Store        -1.2323      0.091    -13.584      0.000      -1.410      -1.054\n",
      "Outlet_Type_Supermarket Type1    -0.5701      0.273     -2.090      0.037      -1.105      -0.035\n",
      "Outlet_Type_Supermarket Type2    -0.3710      0.162     -2.288      0.022      -0.689      -0.053\n",
      "Outlet_Type_Supermarket Type3     2.1734      0.346      6.286      0.000       1.496       2.851\n",
      "Item_Fat_Content_Low Fat         -0.0078      0.007     -1.133      0.257      -0.021       0.006\n",
      "Item_Fat_Content_Non-Edible       0.0006      0.006      0.100      0.921      -0.011       0.012\n",
      "Item_Fat_Content_Regular          0.0072      0.008      0.923      0.356      -0.008       0.022\n",
      "New_Item_Type_Drinking           -0.0073      0.012     -0.605      0.545      -0.031       0.016\n",
      "New_Item_Type_Food                0.0067      0.009      0.713      0.476      -0.012       0.025\n",
      "New_Item_Type_Non-Consumable      0.0006      0.006      0.100      0.921      -0.011       0.012\n",
      "Outlet_Size_High                  1.4642      0.416      3.521      0.000       0.649       2.279\n",
      "Outlet_Size_Medium               -0.8258      0.242     -3.416      0.001      -1.300      -0.352\n",
      "Outlet_Size_Small                -0.6384      0.175     -3.648      0.000      -0.981      -0.295\n",
      "Outlet_Location_Type_Tier 1       0.4005      0.107      3.755      0.000       0.191       0.610\n",
      "Outlet_Location_Type_Tier 2       0.0240      0.018      1.349      0.177      -0.011       0.059\n",
      "Outlet_Location_Type_Tier 3      -0.4245      0.109     -3.878      0.000      -0.639      -0.210\n",
      "==============================================================================\n",
      "Omnibus:                      819.250   Durbin-Watson:                   2.008\n",
      "Prob(Omnibus):                  0.000   Jarque-Bera (JB):             1144.564\n",
      "Skew:                          -0.770   Prob(JB):                    2.89e-249\n",
      "Kurtosis:                       3.922   Cond. No.                     1.36e+21\n",
      "==============================================================================\n",
      "\n",
      "Notes:\n",
      "[1] Standard Errors assume that the covariance matrix of the errors is correctly specified.\n",
      "[2] The smallest eigenvalue is 1.84e-32. This might indicate that there are\n",
      "strong multicollinearity problems or that the design matrix is singular.\n"
     ]
    }
   ],
   "source": [
    "x = train\n",
    "y = test\n",
    "x = sm.add_constant(x)\n",
    "result = sm.OLS(y,x).fit()\n",
    "print(result.summary())"
   ]
  },
  {
   "cell_type": "markdown",
   "id": "a6e76a18",
   "metadata": {},
   "source": [
    "### Observations\n",
    "1.p value for F satistic is < 0.05 so we can say that our model is significant (at least for one independent variable, the regression coef. is not equal zero,rejecting the null hypothesis,The null hypothesis under this is “all the regression coefficients are equal to zero”.)\n",
    "\n",
    "2.R squared value indicates that 72.1 percentage of the variance in the dependent variable is explained by our model , Adjusted R square value is lesser than R square that is indicating that our model has insignificant attributes.\n",
    "\n",
    "3.Now we will check p values for each attributes if the p values is <0.05 we will say that the attribute is contributing to the model (reject the null hypothesis(coef=0)) if > 0.05 then the attribute is insigficant (accept the null hypothesis(coef=0))\n",
    "\n",
    "4 looking the p values we can say {'Item_Weight','Item_Visibility','MRP_per_unit_weight','Item_Fat_Content_Low Fat',\n",
    "'Item_Fat_Content_Non-Edible','New_Item_Type_Drinking','New_Item_Type_Food','Item_Fat_Content_Regular',\n",
    "'New_Item_Type_Non-Consumable','Outlet_Location_Type_Tier 2'} have no contribution to the dependent variable.\n",
    "\n",
    "5 We can conclude that these attributes are not driving the sales\n",
    "\n",
    "6.Prob(Omnibus): One of the assumptions of OLS is that the errors are normally distributed. Omnibus test is performed in order to check this. Here, the null hypothesis is that the errors are normally distributed. Prob(Omnibus) is supposed to be close to the 1 in order for it to satisfy the OLS assumption. In this case Prob(Omnibus) is 0.000, which implies that the OLS assumption is not satisfied , the errors are not normally distributed\n",
    "\n",
    "7.Durbin-watson: The value of this test is arround 2.008 which is almost equal to 2 this means this data has no sutocorelation.\n",
    "\n",
    "8..Prob(Jarque-Bera): It is in line with the Omnibus test. It is also performed for the distribution analysis of the regression errors. It is supposed to agree with the results of Omnibus test. A large value of JB test indicates that the errors are not normally distributed.\n",
    "                      \n",
    "                      "
   ]
  },
  {
   "cell_type": "code",
   "execution_count": 69,
   "id": "710b9a54",
   "metadata": {},
   "outputs": [],
   "source": [
    "train_1 = train.drop(['Item_Weight','Item_Visibility','MRP_per_unit_weight',\n",
    "                      'Item_Fat_Content_Low Fat','Item_Fat_Content_Non-Edible','New_Item_Type_Drinking',\n",
    "                      'New_Item_Type_Food','Item_Fat_Content_Regular',\n",
    "                      'New_Item_Type_Non-Consumable','Outlet_Location_Type_Tier 2'],axis=1)"
   ]
  },
  {
   "cell_type": "code",
   "execution_count": 70,
   "id": "8eac109a",
   "metadata": {},
   "outputs": [
    {
     "name": "stdout",
     "output_type": "stream",
     "text": [
      "                            OLS Regression Results                            \n",
      "==============================================================================\n",
      "Dep. Variable:      Item_Outlet_Sales   R-squared:                       0.720\n",
      "Model:                            OLS   Adj. R-squared:                  0.720\n",
      "Method:                 Least Squares   F-statistic:                     2194.\n",
      "Date:                Mon, 20 Jun 2022   Prob (F-statistic):               0.00\n",
      "Time:                        23:25:04   Log-Likelihood:                -6790.4\n",
      "No. Observations:                8523   AIC:                         1.360e+04\n",
      "Df Residuals:                    8512   BIC:                         1.368e+04\n",
      "Df Model:                          10                                         \n",
      "Covariance Type:            nonrobust                                         \n",
      "=================================================================================================\n",
      "                                    coef    std err          t      P>|t|      [0.025      0.975]\n",
      "-------------------------------------------------------------------------------------------------\n",
      "const                         -3.684e-05   1.11e-05     -3.325      0.001   -5.86e-05   -1.51e-05\n",
      "Item_MRP                          0.0083   9.34e-05     88.705      0.000       0.008       0.008\n",
      "Outlet_Establishment_Year         0.0039      0.000     14.701      0.000       0.003       0.004\n",
      "Outlet_Years                     -0.0781      0.023     -3.460      0.001      -0.122      -0.034\n",
      "Outlet                            0.0675      0.022      3.107      0.002       0.025       0.110\n",
      "Outlet_Type_Grocery Store        -1.2349      0.091    -13.630      0.000      -1.412      -1.057\n",
      "Outlet_Type_Supermarket Type1    -0.5701      0.273     -2.090      0.037      -1.105      -0.035\n",
      "Outlet_Type_Supermarket Type2    -0.3691      0.162     -2.277      0.023      -0.687      -0.051\n",
      "Outlet_Type_Supermarket Type3     2.1740      0.346      6.289      0.000       1.496       2.852\n",
      "Outlet_Size_High                  1.4621      0.416      3.516      0.000       0.647       2.277\n",
      "Outlet_Size_Medium               -0.8244      0.242     -3.411      0.001      -1.298      -0.351\n",
      "Outlet_Size_Small                -0.6378      0.175     -3.646      0.000      -0.981      -0.295\n",
      "Outlet_Location_Type_Tier 1       0.3755      0.107      3.517      0.000       0.166       0.585\n",
      "Outlet_Location_Type_Tier 3      -0.4507      0.115     -3.922      0.000      -0.676      -0.225\n",
      "==============================================================================\n",
      "Omnibus:                      819.579   Durbin-Watson:                   2.008\n",
      "Prob(Omnibus):                  0.000   Jarque-Bera (JB):             1145.935\n",
      "Skew:                          -0.770   Prob(JB):                    1.46e-249\n",
      "Kurtosis:                       3.924   Cond. No.                     4.77e+20\n",
      "==============================================================================\n",
      "\n",
      "Notes:\n",
      "[1] Standard Errors assume that the covariance matrix of the errors is correctly specified.\n",
      "[2] The smallest eigenvalue is 1.5e-31. This might indicate that there are\n",
      "strong multicollinearity problems or that the design matrix is singular.\n"
     ]
    }
   ],
   "source": [
    "x = train_1\n",
    "y = test\n",
    " \n",
    "# adding the constant term\n",
    "x = sm.add_constant(x)\n",
    " \n",
    "# performing the regression\n",
    "# and fitting the model\n",
    "result = sm.OLS(y, x).fit()\n",
    " \n",
    "# printing the summary table\n",
    "print(result.summary())"
   ]
  },
  {
   "cell_type": "markdown",
   "id": "21440784",
   "metadata": {},
   "source": [
    "### Observations\n",
    "1.F-statistic has increased by a significat amount , p value (F-statistic) <0.05 so model is significant.\n",
    "\n",
    "2.R squared has decreases  which proves that the dropped attributes were insignificant for the model.\n",
    "\n",
    "3.the p value of all attributes are <0.05 so , all the selected attributes are significant to dependet variable"
   ]
  },
  {
   "cell_type": "code",
   "execution_count": null,
   "id": "679f4955",
   "metadata": {},
   "outputs": [],
   "source": []
  },
  {
   "cell_type": "markdown",
   "id": "d9285019",
   "metadata": {},
   "source": [
    "### Spliting data for training"
   ]
  },
  {
   "cell_type": "code",
   "execution_count": 71,
   "id": "b3650e42",
   "metadata": {},
   "outputs": [],
   "source": [
    "from sklearn.model_selection import train_test_split , cross_val_score,KFold\n",
    "from sklearn.metrics import r2_score,mean_absolute_error,mean_squared_error"
   ]
  },
  {
   "cell_type": "code",
   "execution_count": 72,
   "id": "f5249843",
   "metadata": {},
   "outputs": [],
   "source": [
    "X_train , X_test, y_train , y_test = train_test_split(train_1,test,test_size = 0.25, shuffle = True,random_state=100)"
   ]
  },
  {
   "cell_type": "code",
   "execution_count": null,
   "id": "655ceb6b",
   "metadata": {},
   "outputs": [],
   "source": []
  },
  {
   "cell_type": "markdown",
   "id": "bd1f8f7e",
   "metadata": {},
   "source": [
    "### Modelling"
   ]
  },
  {
   "cell_type": "code",
   "execution_count": 73,
   "id": "7197c707",
   "metadata": {},
   "outputs": [],
   "source": [
    "def model_details(model,alg):\n",
    "    y_pred=model.predict(X_test)\n",
    "    rmse=np.sqrt(mean_squared_error(y_test,y_pred))\n",
    "    mae = mean_absolute_error(y_test,y_pred)\n",
    "    acc=round(model.score(X_test,y_test)*100,2)\n",
    "    cvs=cross_val_score(model,X_test,y_test,cv=5)\n",
    "    mean=round(cvs.mean()*100,2)\n",
    "    std=round(cvs.std()*2,2)\n",
    "    print(\"Model Report\")\n",
    "    print('Accuracy of {}: {}%'.format(alg,acc),)\n",
    "    print('RMSE Value: ',round(rmse,2))\n",
    "    print('Cross Validation Score: Mean - {} | Std - {}'.format(mean,std))\n",
    "    print('MAE Value: ',round(mae,2))\n",
    "    \n",
    "    "
   ]
  },
  {
   "cell_type": "markdown",
   "id": "28627015",
   "metadata": {},
   "source": [
    "### Base Model"
   ]
  },
  {
   "cell_type": "code",
   "execution_count": 74,
   "id": "6f2b1a28",
   "metadata": {},
   "outputs": [],
   "source": [
    "from sklearn.metrics import mean_squared_error"
   ]
  },
  {
   "cell_type": "code",
   "execution_count": 75,
   "id": "59b9458d",
   "metadata": {},
   "outputs": [
    {
     "data": {
      "text/plain": [
       "1477.1403771510859"
      ]
     },
     "execution_count": 75,
     "metadata": {},
     "output_type": "execute_result"
    }
   ],
   "source": [
    "base_model = np.exp(test.mean())\n",
    "base_model"
   ]
  },
  {
   "cell_type": "code",
   "execution_count": 76,
   "id": "04f0e188",
   "metadata": {},
   "outputs": [],
   "source": [
    "base_model = [base_model]*len(test)"
   ]
  },
  {
   "cell_type": "code",
   "execution_count": 77,
   "id": "428ace68",
   "metadata": {},
   "outputs": [],
   "source": [
    "base_rmse = np.sqrt(mean_squared_error(np.exp(test) ,base_model))\n",
    "base_mae = mean_absolute_error(np.exp(test) ,base_model)"
   ]
  },
  {
   "cell_type": "code",
   "execution_count": 78,
   "id": "026d34ae",
   "metadata": {},
   "outputs": [
    {
     "name": "stdout",
     "output_type": "stream",
     "text": [
      "1846.3568768390555\n",
      "1337.3645387774316\n"
     ]
    }
   ],
   "source": [
    "print(base_rmse)\n",
    "print(base_mae)"
   ]
  },
  {
   "cell_type": "code",
   "execution_count": 79,
   "id": "6ca73bd4",
   "metadata": {},
   "outputs": [
    {
     "name": "stdout",
     "output_type": "stream",
     "text": [
      "The RMSE of Base Mode :  1846.3568768390555\n",
      "The MAE of Base Mode :  1337.3645387774316\n"
     ]
    }
   ],
   "source": [
    "print(\"The RMSE of Base Mode : \" , base_rmse)\n",
    "print(\"The MAE of Base Mode : \" , base_mae)"
   ]
  },
  {
   "cell_type": "code",
   "execution_count": null,
   "id": "ff56debc",
   "metadata": {},
   "outputs": [],
   "source": []
  },
  {
   "cell_type": "markdown",
   "id": "ddc58e83",
   "metadata": {},
   "source": [
    "### Linear Regression"
   ]
  },
  {
   "cell_type": "code",
   "execution_count": 80,
   "id": "9f0724a6",
   "metadata": {},
   "outputs": [],
   "source": [
    "from sklearn.linear_model import LinearRegression\n",
    "LR = LinearRegression()"
   ]
  },
  {
   "cell_type": "code",
   "execution_count": 81,
   "id": "02b6f6dc",
   "metadata": {},
   "outputs": [
    {
     "name": "stdout",
     "output_type": "stream",
     "text": [
      "0.7110512171093617\n"
     ]
    }
   ],
   "source": [
    "LR.fit(X_train,y_train)\n",
    "print(LR.score(X_test,y_test))"
   ]
  },
  {
   "cell_type": "code",
   "execution_count": 82,
   "id": "2db8258f",
   "metadata": {},
   "outputs": [],
   "source": [
    "y_pred = LR.predict(X_test)\n",
    "y_pred = np.exp(y_pred)\n",
    "y_test_lr = np.exp(y_test)"
   ]
  },
  {
   "cell_type": "code",
   "execution_count": 83,
   "id": "f8be6cd4",
   "metadata": {},
   "outputs": [],
   "source": [
    "rmse=np.sqrt(mean_squared_error(y_test_lr,y_pred))\n",
    "mae = mean_absolute_error(y_test_lr,y_pred)"
   ]
  },
  {
   "cell_type": "code",
   "execution_count": 84,
   "id": "ead17c4d",
   "metadata": {},
   "outputs": [
    {
     "name": "stdout",
     "output_type": "stream",
     "text": [
      "The RMSE of Linear Regression :  1161.4061530888232\n",
      "The MAE of Linear Regression :  802.8998253050926\n"
     ]
    }
   ],
   "source": [
    "print(\"The RMSE of Linear Regression : \" , rmse)\n",
    "print(\"The MAE of Linear Regression : \" , mae)"
   ]
  },
  {
   "cell_type": "code",
   "execution_count": 85,
   "id": "370ca76d",
   "metadata": {},
   "outputs": [
    {
     "name": "stdout",
     "output_type": "stream",
     "text": [
      "Model Report\n",
      "Accuracy of LinearRegression: 71.11%\n",
      "RMSE Value:  0.54\n",
      "Cross Validation Score: Mean - 70.86 | Std - 0.04\n",
      "MAE Value:  0.42\n"
     ]
    }
   ],
   "source": [
    "model_details(LR,'LinearRegression')"
   ]
  },
  {
   "cell_type": "markdown",
   "id": "b3c4d0db",
   "metadata": {},
   "source": [
    "### Random Forest Regressor"
   ]
  },
  {
   "cell_type": "code",
   "execution_count": 86,
   "id": "5d8ab7f9",
   "metadata": {},
   "outputs": [
    {
     "data": {
      "text/html": [
       "<style>#sk-container-id-1 {color: black;background-color: white;}#sk-container-id-1 pre{padding: 0;}#sk-container-id-1 div.sk-toggleable {background-color: white;}#sk-container-id-1 label.sk-toggleable__label {cursor: pointer;display: block;width: 100%;margin-bottom: 0;padding: 0.3em;box-sizing: border-box;text-align: center;}#sk-container-id-1 label.sk-toggleable__label-arrow:before {content: \"▸\";float: left;margin-right: 0.25em;color: #696969;}#sk-container-id-1 label.sk-toggleable__label-arrow:hover:before {color: black;}#sk-container-id-1 div.sk-estimator:hover label.sk-toggleable__label-arrow:before {color: black;}#sk-container-id-1 div.sk-toggleable__content {max-height: 0;max-width: 0;overflow: hidden;text-align: left;background-color: #f0f8ff;}#sk-container-id-1 div.sk-toggleable__content pre {margin: 0.2em;color: black;border-radius: 0.25em;background-color: #f0f8ff;}#sk-container-id-1 input.sk-toggleable__control:checked~div.sk-toggleable__content {max-height: 200px;max-width: 100%;overflow: auto;}#sk-container-id-1 input.sk-toggleable__control:checked~label.sk-toggleable__label-arrow:before {content: \"▾\";}#sk-container-id-1 div.sk-estimator input.sk-toggleable__control:checked~label.sk-toggleable__label {background-color: #d4ebff;}#sk-container-id-1 div.sk-label input.sk-toggleable__control:checked~label.sk-toggleable__label {background-color: #d4ebff;}#sk-container-id-1 input.sk-hidden--visually {border: 0;clip: rect(1px 1px 1px 1px);clip: rect(1px, 1px, 1px, 1px);height: 1px;margin: -1px;overflow: hidden;padding: 0;position: absolute;width: 1px;}#sk-container-id-1 div.sk-estimator {font-family: monospace;background-color: #f0f8ff;border: 1px dotted black;border-radius: 0.25em;box-sizing: border-box;margin-bottom: 0.5em;}#sk-container-id-1 div.sk-estimator:hover {background-color: #d4ebff;}#sk-container-id-1 div.sk-parallel-item::after {content: \"\";width: 100%;border-bottom: 1px solid gray;flex-grow: 1;}#sk-container-id-1 div.sk-label:hover label.sk-toggleable__label {background-color: #d4ebff;}#sk-container-id-1 div.sk-serial::before {content: \"\";position: absolute;border-left: 1px solid gray;box-sizing: border-box;top: 0;bottom: 0;left: 50%;z-index: 0;}#sk-container-id-1 div.sk-serial {display: flex;flex-direction: column;align-items: center;background-color: white;padding-right: 0.2em;padding-left: 0.2em;position: relative;}#sk-container-id-1 div.sk-item {position: relative;z-index: 1;}#sk-container-id-1 div.sk-parallel {display: flex;align-items: stretch;justify-content: center;background-color: white;position: relative;}#sk-container-id-1 div.sk-item::before, #sk-container-id-1 div.sk-parallel-item::before {content: \"\";position: absolute;border-left: 1px solid gray;box-sizing: border-box;top: 0;bottom: 0;left: 50%;z-index: -1;}#sk-container-id-1 div.sk-parallel-item {display: flex;flex-direction: column;z-index: 1;position: relative;background-color: white;}#sk-container-id-1 div.sk-parallel-item:first-child::after {align-self: flex-end;width: 50%;}#sk-container-id-1 div.sk-parallel-item:last-child::after {align-self: flex-start;width: 50%;}#sk-container-id-1 div.sk-parallel-item:only-child::after {width: 0;}#sk-container-id-1 div.sk-dashed-wrapped {border: 1px dashed gray;margin: 0 0.4em 0.5em 0.4em;box-sizing: border-box;padding-bottom: 0.4em;background-color: white;}#sk-container-id-1 div.sk-label label {font-family: monospace;font-weight: bold;display: inline-block;line-height: 1.2em;}#sk-container-id-1 div.sk-label-container {text-align: center;}#sk-container-id-1 div.sk-container {/* jupyter's `normalize.less` sets `[hidden] { display: none; }` but bootstrap.min.css set `[hidden] { display: none !important; }` so we also need the `!important` here to be able to override the default hidden behavior on the sphinx rendered scikit-learn.org. See: https://github.com/scikit-learn/scikit-learn/issues/21755 */display: inline-block !important;position: relative;}#sk-container-id-1 div.sk-text-repr-fallback {display: none;}</style><div id=\"sk-container-id-1\" class=\"sk-top-container\"><div class=\"sk-text-repr-fallback\"><pre>RandomForestRegressor(max_depth=8, min_samples_leaf=100, min_samples_split=8,\n",
       "                      n_estimators=600)</pre><b>In a Jupyter environment, please rerun this cell to show the HTML representation or trust the notebook. <br />On GitHub, the HTML representation is unable to render, please try loading this page with nbviewer.org.</b></div><div class=\"sk-container\" hidden><div class=\"sk-item\"><div class=\"sk-estimator sk-toggleable\"><input class=\"sk-toggleable__control sk-hidden--visually\" id=\"sk-estimator-id-1\" type=\"checkbox\" checked><label for=\"sk-estimator-id-1\" class=\"sk-toggleable__label sk-toggleable__label-arrow\">RandomForestRegressor</label><div class=\"sk-toggleable__content\"><pre>RandomForestRegressor(max_depth=8, min_samples_leaf=100, min_samples_split=8,\n",
       "                      n_estimators=600)</pre></div></div></div></div></div>"
      ],
      "text/plain": [
       "RandomForestRegressor(max_depth=8, min_samples_leaf=100, min_samples_split=8,\n",
       "                      n_estimators=600)"
      ]
     },
     "execution_count": 86,
     "metadata": {},
     "output_type": "execute_result"
    }
   ],
   "source": [
    "from sklearn.ensemble import RandomForestRegressor\n",
    "RF = RandomForestRegressor(n_estimators=600, min_samples_leaf=100, min_samples_split=8, max_depth=8)\n",
    "RF.fit(X_train,y_train)"
   ]
  },
  {
   "cell_type": "code",
   "execution_count": 87,
   "id": "5907964a",
   "metadata": {},
   "outputs": [],
   "source": [
    "#RF = RandomForestRegressor(n_estimators= 600,min_samples_split= 5,min_samples_leaf= 8,max_depth= 670)\n",
    "#RF.fit(X_train,y_train)"
   ]
  },
  {
   "cell_type": "code",
   "execution_count": 88,
   "id": "371e20d1",
   "metadata": {},
   "outputs": [
    {
     "data": {
      "text/plain": [
       "0.7169356886807723"
      ]
     },
     "execution_count": 88,
     "metadata": {},
     "output_type": "execute_result"
    }
   ],
   "source": [
    "RF.score(X_test,y_test)"
   ]
  },
  {
   "cell_type": "code",
   "execution_count": 89,
   "id": "d305a8f7",
   "metadata": {},
   "outputs": [],
   "source": [
    "y_pred_rf = RF.predict(X_test)\n",
    "y_pred_rf = np.exp(y_pred_rf)"
   ]
  },
  {
   "cell_type": "code",
   "execution_count": 90,
   "id": "6f4b7187",
   "metadata": {},
   "outputs": [],
   "source": [
    "rmse=np.sqrt(mean_squared_error(y_test_lr,y_pred_rf))\n",
    "mae = mean_absolute_error(y_test_lr,y_pred_rf)"
   ]
  },
  {
   "cell_type": "code",
   "execution_count": 91,
   "id": "96ab0959",
   "metadata": {},
   "outputs": [
    {
     "name": "stdout",
     "output_type": "stream",
     "text": [
      "The RMSE of Random Forest :  1126.1043863816803\n",
      "The MAE of Random Forest :  785.0210767891541\n"
     ]
    }
   ],
   "source": [
    "print(\"The RMSE of Random Forest : \" , rmse)\n",
    "print(\"The MAE of Random Forest : \" , mae)"
   ]
  },
  {
   "cell_type": "code",
   "execution_count": 92,
   "id": "9bf5dc29",
   "metadata": {},
   "outputs": [
    {
     "name": "stdout",
     "output_type": "stream",
     "text": [
      "Model Report\n",
      "Accuracy of RandomForestRegressor: 71.69%\n",
      "RMSE Value:  0.53\n",
      "Cross Validation Score: Mean - 66.52 | Std - 0.05\n",
      "MAE Value:  0.41\n"
     ]
    }
   ],
   "source": [
    "model_details(RF,'RandomForestRegressor')"
   ]
  },
  {
   "cell_type": "markdown",
   "id": "524e4c48",
   "metadata": {},
   "source": [
    "### XG Boost"
   ]
  },
  {
   "cell_type": "code",
   "execution_count": 93,
   "id": "c0e0f0d1",
   "metadata": {},
   "outputs": [
    {
     "name": "stdout",
     "output_type": "stream",
     "text": [
      "Requirement already satisfied: xgboost in c:\\users\\hp\\anaconda3\\lib\\site-packages (1.6.1)\n",
      "Requirement already satisfied: scipy in c:\\users\\hp\\anaconda3\\lib\\site-packages (from xgboost) (1.7.1)\n",
      "Requirement already satisfied: numpy in c:\\users\\hp\\anaconda3\\lib\\site-packages (from xgboost) (1.20.3)\n"
     ]
    }
   ],
   "source": [
    "!pip3 install xgboost"
   ]
  },
  {
   "cell_type": "code",
   "execution_count": 94,
   "id": "c64b21c2",
   "metadata": {},
   "outputs": [],
   "source": [
    "from xgboost import XGBRegressor"
   ]
  },
  {
   "cell_type": "code",
   "execution_count": 95,
   "id": "997ecbd5",
   "metadata": {},
   "outputs": [],
   "source": [
    "XG=XGBRegressor(learning_rate=0.05, subsample=1,max_depth= 2,n_estimators=400 )"
   ]
  },
  {
   "cell_type": "code",
   "execution_count": 96,
   "id": "6513bbd7",
   "metadata": {},
   "outputs": [
    {
     "data": {
      "text/plain": [
       "0.7256862876052343"
      ]
     },
     "execution_count": 96,
     "metadata": {},
     "output_type": "execute_result"
    }
   ],
   "source": [
    "XG.fit(X_train,y_train)\n",
    "XG.score(X_test,y_test)"
   ]
  },
  {
   "cell_type": "code",
   "execution_count": 97,
   "id": "1af70a58",
   "metadata": {},
   "outputs": [],
   "source": [
    "y_pred_xg = XG.predict(X_test)\n",
    "y_pred_xg = np.exp(y_pred_xg)"
   ]
  },
  {
   "cell_type": "code",
   "execution_count": 98,
   "id": "eb56fe05",
   "metadata": {},
   "outputs": [],
   "source": [
    "rmse=np.sqrt(mean_squared_error(y_test_lr,y_pred_xg))\n",
    "mae_p = mean_absolute_error(y_test_lr,y_pred_xg)"
   ]
  },
  {
   "cell_type": "code",
   "execution_count": 99,
   "id": "3f599292",
   "metadata": {},
   "outputs": [
    {
     "name": "stdout",
     "output_type": "stream",
     "text": [
      "The RMSE of XGBRegressor :  1114.3192627225426\n",
      "The MAE of XGBRegressor :  772.7013958131057\n"
     ]
    }
   ],
   "source": [
    "print(\"The RMSE of XGBRegressor : \" , rmse)\n",
    "print(\"The MAE of XGBRegressor : \" , mae_p)"
   ]
  },
  {
   "cell_type": "code",
   "execution_count": 100,
   "id": "3432598b",
   "metadata": {},
   "outputs": [
    {
     "name": "stdout",
     "output_type": "stream",
     "text": [
      "Model Report\n",
      "Accuracy of XGBRegressor: 72.57%\n",
      "RMSE Value:  0.53\n",
      "Cross Validation Score: Mean - 71.84 | Std - 0.04\n",
      "MAE Value:  0.4\n"
     ]
    }
   ],
   "source": [
    "model_details(XG,'XGBRegressor')"
   ]
  },
  {
   "cell_type": "markdown",
   "id": "3b698681",
   "metadata": {},
   "source": [
    "#### Comparing B/W actual sales and Predicted Sales"
   ]
  },
  {
   "cell_type": "markdown",
   "id": "fd37de6b",
   "metadata": {},
   "source": [
    "As XGB has given me best performence i will check by XGB regressor"
   ]
  },
  {
   "cell_type": "code",
   "execution_count": 101,
   "id": "dad0c220",
   "metadata": {},
   "outputs": [],
   "source": [
    "y_pred_random=XG.predict(X_test)"
   ]
  },
  {
   "cell_type": "code",
   "execution_count": 102,
   "id": "20a7bf0e",
   "metadata": {},
   "outputs": [],
   "source": [
    "pred_xgb=pd.DataFrame(y_pred_random,columns=['predicted_xgb'])\n",
    "true_values=list(y_test.values)\n",
    "pred_xgb['true_value']=true_values\n",
    "#pred_xgb['true_value']=y_test"
   ]
  },
  {
   "cell_type": "code",
   "execution_count": 103,
   "id": "d6525b57",
   "metadata": {},
   "outputs": [
    {
     "data": {
      "text/html": [
       "<div>\n",
       "<style scoped>\n",
       "    .dataframe tbody tr th:only-of-type {\n",
       "        vertical-align: middle;\n",
       "    }\n",
       "\n",
       "    .dataframe tbody tr th {\n",
       "        vertical-align: top;\n",
       "    }\n",
       "\n",
       "    .dataframe thead th {\n",
       "        text-align: right;\n",
       "    }\n",
       "</style>\n",
       "<table border=\"1\" class=\"dataframe\">\n",
       "  <thead>\n",
       "    <tr style=\"text-align: right;\">\n",
       "      <th></th>\n",
       "      <th>predicted_xgb</th>\n",
       "      <th>true_value</th>\n",
       "    </tr>\n",
       "  </thead>\n",
       "  <tbody>\n",
       "    <tr>\n",
       "      <th>0</th>\n",
       "      <td>7.94</td>\n",
       "      <td>8.40</td>\n",
       "    </tr>\n",
       "    <tr>\n",
       "      <th>1</th>\n",
       "      <td>8.23</td>\n",
       "      <td>8.49</td>\n",
       "    </tr>\n",
       "    <tr>\n",
       "      <th>2</th>\n",
       "      <td>8.51</td>\n",
       "      <td>7.74</td>\n",
       "    </tr>\n",
       "    <tr>\n",
       "      <th>3</th>\n",
       "      <td>7.34</td>\n",
       "      <td>6.97</td>\n",
       "    </tr>\n",
       "    <tr>\n",
       "      <th>4</th>\n",
       "      <td>7.83</td>\n",
       "      <td>7.76</td>\n",
       "    </tr>\n",
       "    <tr>\n",
       "      <th>...</th>\n",
       "      <td>...</td>\n",
       "      <td>...</td>\n",
       "    </tr>\n",
       "    <tr>\n",
       "      <th>2126</th>\n",
       "      <td>7.31</td>\n",
       "      <td>6.95</td>\n",
       "    </tr>\n",
       "    <tr>\n",
       "      <th>2127</th>\n",
       "      <td>7.50</td>\n",
       "      <td>7.58</td>\n",
       "    </tr>\n",
       "    <tr>\n",
       "      <th>2128</th>\n",
       "      <td>7.55</td>\n",
       "      <td>7.98</td>\n",
       "    </tr>\n",
       "    <tr>\n",
       "      <th>2129</th>\n",
       "      <td>8.50</td>\n",
       "      <td>8.61</td>\n",
       "    </tr>\n",
       "    <tr>\n",
       "      <th>2130</th>\n",
       "      <td>7.52</td>\n",
       "      <td>5.56</td>\n",
       "    </tr>\n",
       "  </tbody>\n",
       "</table>\n",
       "<p>2131 rows × 2 columns</p>\n",
       "</div>"
      ],
      "text/plain": [
       "      predicted_xgb  true_value\n",
       "0              7.94        8.40\n",
       "1              8.23        8.49\n",
       "2              8.51        7.74\n",
       "3              7.34        6.97\n",
       "4              7.83        7.76\n",
       "...             ...         ...\n",
       "2126           7.31        6.95\n",
       "2127           7.50        7.58\n",
       "2128           7.55        7.98\n",
       "2129           8.50        8.61\n",
       "2130           7.52        5.56\n",
       "\n",
       "[2131 rows x 2 columns]"
      ]
     },
     "execution_count": 103,
     "metadata": {},
     "output_type": "execute_result"
    }
   ],
   "source": [
    "pred_xgb"
   ]
  },
  {
   "cell_type": "code",
   "execution_count": 104,
   "id": "27d9f429",
   "metadata": {},
   "outputs": [],
   "source": [
    "a = np.exp(pred_xgb)"
   ]
  },
  {
   "cell_type": "code",
   "execution_count": 105,
   "id": "23036737",
   "metadata": {},
   "outputs": [
    {
     "data": {
      "text/html": [
       "<div>\n",
       "<style scoped>\n",
       "    .dataframe tbody tr th:only-of-type {\n",
       "        vertical-align: middle;\n",
       "    }\n",
       "\n",
       "    .dataframe tbody tr th {\n",
       "        vertical-align: top;\n",
       "    }\n",
       "\n",
       "    .dataframe thead th {\n",
       "        text-align: right;\n",
       "    }\n",
       "</style>\n",
       "<table border=\"1\" class=\"dataframe\">\n",
       "  <thead>\n",
       "    <tr style=\"text-align: right;\">\n",
       "      <th></th>\n",
       "      <th>predicted_xgb</th>\n",
       "      <th>true_value</th>\n",
       "    </tr>\n",
       "  </thead>\n",
       "  <tbody>\n",
       "    <tr>\n",
       "      <th>count</th>\n",
       "      <td>2131.00</td>\n",
       "      <td>2131.00</td>\n",
       "    </tr>\n",
       "    <tr>\n",
       "      <th>mean</th>\n",
       "      <td>1967.36</td>\n",
       "      <td>2209.08</td>\n",
       "    </tr>\n",
       "    <tr>\n",
       "      <th>std</th>\n",
       "      <td>1183.29</td>\n",
       "      <td>1693.57</td>\n",
       "    </tr>\n",
       "    <tr>\n",
       "      <th>min</th>\n",
       "      <td>56.19</td>\n",
       "      <td>37.62</td>\n",
       "    </tr>\n",
       "    <tr>\n",
       "      <th>25%</th>\n",
       "      <td>1054.76</td>\n",
       "      <td>876.19</td>\n",
       "    </tr>\n",
       "    <tr>\n",
       "      <th>50%</th>\n",
       "      <td>1864.08</td>\n",
       "      <td>1845.93</td>\n",
       "    </tr>\n",
       "    <tr>\n",
       "      <th>75%</th>\n",
       "      <td>2801.75</td>\n",
       "      <td>3105.63</td>\n",
       "    </tr>\n",
       "    <tr>\n",
       "      <th>max</th>\n",
       "      <td>6464.70</td>\n",
       "      <td>10073.89</td>\n",
       "    </tr>\n",
       "  </tbody>\n",
       "</table>\n",
       "</div>"
      ],
      "text/plain": [
       "       predicted_xgb  true_value\n",
       "count        2131.00     2131.00\n",
       "mean         1967.36     2209.08\n",
       "std          1183.29     1693.57\n",
       "min            56.19       37.62\n",
       "25%          1054.76      876.19\n",
       "50%          1864.08     1845.93\n",
       "75%          2801.75     3105.63\n",
       "max          6464.70    10073.89"
      ]
     },
     "execution_count": 105,
     "metadata": {},
     "output_type": "execute_result"
    }
   ],
   "source": [
    "a.describe()"
   ]
  },
  {
   "cell_type": "code",
   "execution_count": 106,
   "id": "d243c102",
   "metadata": {},
   "outputs": [],
   "source": [
    "comp=pred_xgb\n",
    "comp=comp.iloc[1000:1050]\n",
    "true_value=comp['true_value']\n",
    "predicted_value=comp['predicted_xgb']"
   ]
  },
  {
   "cell_type": "code",
   "execution_count": 107,
   "id": "9c524964",
   "metadata": {},
   "outputs": [
    {
     "data": {
      "image/png": "[encoded data removed]",
      "text/plain": [
       "<Figure size 432x288 with 1 Axes>"
      ]
     },
     "metadata": {
      "needs_background": "light"
     },
     "output_type": "display_data"
    }
   ],
   "source": [
    "plt.plot(true_value)\n",
    "plt.plot(predicted_value)\n",
    "plt.ylabel('Item Outlet Sales')\n",
    "plt.legend(['Actual','Predicted'])\n",
    "plt.title(\"Item Outlet Sales--> Actual vs Predicted\",fontsize=16)\n",
    "plt.show()"
   ]
  },
  {
   "cell_type": "markdown",
   "id": "75c2e067",
   "metadata": {},
   "source": [
    "### Observations:\n",
    "The RMSE and R squared value is comparatively better for XGB regressor and their R2 score is 72% so we will consider this models  according to business requirement , Later on we can try to hyper tune the models and check for the optimum results."
   ]
  },
  {
   "cell_type": "code",
   "execution_count": null,
   "id": "06f134b5",
   "metadata": {},
   "outputs": [],
   "source": []
  },
  {
   "cell_type": "code",
   "execution_count": null,
   "id": "61917e25",
   "metadata": {},
   "outputs": [],
   "source": []
  },
  {
   "cell_type": "code",
   "execution_count": null,
   "id": "a3b343da",
   "metadata": {},
   "outputs": [],
   "source": []
  },
  {
   "cell_type": "code",
   "execution_count": null,
   "id": "5e836523",
   "metadata": {},
   "outputs": [],
   "source": []
  }
 ],
 "metadata": {
  "kernelspec": {
   "display_name": "Python 3 (ipykernel)",
   "language": "python",
   "name": "python3"
  },
  "language_info": {
   "codemirror_mode": {
    "name": "ipython",
    "version": 3
   },
   "file_extension": ".py",
   "mimetype": "text/x-python",
   "name": "python",
   "nbconvert_exporter": "python",
   "pygments_lexer": "ipython3",
   "version": "3.9.7"
  }
 },
 "nbformat": 4,
 "nbformat_minor": 5
}
